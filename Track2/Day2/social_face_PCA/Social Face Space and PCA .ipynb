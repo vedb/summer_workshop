{
 "cells": [
  {
   "cell_type": "markdown",
   "metadata": {},
   "source": [
    "## Welcome to another Principal Components Analysis (PCA) Exercise!\n",
    "\n",
    "In this short analysis, you will be working with a dataset that is high-dimensional enough that we can't just visualize the data easily to make guesses about its dimensionality or what axes we think are likely to capture the most variance. Instead, we'll have to rely on PCA to build some intuitions about this data via the scree plot and the PC coefficients.\n",
    "\n",
    "Briefly, this dataset contains a set of personality ratings participants made in response to a collection of face images: Each face was rated according to a number of properties (14 in total) that we'll describe below. The question we're asking is whether there is a \"social face space\" that is defined by a small number of axes that captures the variance in these ratings - even though there are 14 questions we asked of our observers, could it be the case that they're answering those questions using a smaller number of variables?"
   ]
  },
  {
   "cell_type": "code",
   "execution_count": 1,
   "metadata": {},
   "outputs": [],
   "source": [
    "import numpy as np\n",
    "import matplotlib.pyplot as plt"
   ]
  },
  {
   "cell_type": "markdown",
   "metadata": {},
   "source": [
    "Let's load in our data set - this is a 64x14 matrix with 64 faces (each row is a face) rated according to 14 different properties (the columns)"
   ]
  },
  {
   "cell_type": "code",
   "execution_count": 4,
   "metadata": {},
   "outputs": [],
   "source": [
    "ratings = np.loadtxt('./Data/face_personality_ratings.txt')"
   ]
  },
  {
   "cell_type": "markdown",
   "metadata": {},
   "source": [
    "Next, we're going to apply PCA from sklearn to start figuring out how many dimensions help explain the structure in this data."
   ]
  },
  {
   "cell_type": "code",
   "execution_count": 5,
   "metadata": {},
   "outputs": [],
   "source": [
    "from sklearn.decomposition import PCA\n",
    "pca=PCA().fit(ratings)"
   ]
  },
  {
   "cell_type": "code",
   "execution_count": 6,
   "metadata": {},
   "outputs": [
    {
     "data": {
      "image/png": "[encoded data removed]",
      "text/plain": [
       "<Figure size 432x288 with 1 Axes>"
      ]
     },
     "metadata": {
      "needs_background": "light"
     },
     "output_type": "display_data"
    }
   ],
   "source": [
    "plt.figure()\n",
    "plt.plot(pca.explained_variance_ratio_)\n",
    "plt.xlabel('Component number')\n",
    "plt.ylabel('Prop. variance explained');"
   ]
  },
  {
   "cell_type": "markdown",
   "metadata": {},
   "source": [
    "A quick question: Based on this scree plot, how many dimensions do you think are best for capturing a large portion of the variance without simply holding on to all 14 dimensions (or close to that?). Remember that this isn't something where there is an indisputably best answer!\n",
    "\n",
    "Once you've come up with a number, let's start looking at them and talking about what we see. This line of code below will show you the coefficients for the first principal component."
   ]
  },
  {
   "cell_type": "code",
   "execution_count": 7,
   "metadata": {},
   "outputs": [
    {
     "data": {
      "text/plain": [
       "array([ 0.29231586,  0.29503306, -0.2145396 , -0.25053838, -0.26681675,\n",
       "       -0.30122086, -0.2696336 ,  0.03715765, -0.35083815,  0.30243451,\n",
       "       -0.27556754, -0.19162517,  0.18420332,  0.34865381])"
      ]
     },
     "execution_count": 7,
     "metadata": {},
     "output_type": "execute_result"
    }
   ],
   "source": [
    "pca.components_[0]"
   ]
  },
  {
   "cell_type": "markdown",
   "metadata": {},
   "source": [
    "These coefficients will have high positive or negative values if that original variable is making a large contribution to the value of this PC (sometimes called the 'loading' of the variable). Use the piece of code below to load the list of attributes in and take a look at which coefficients correspond to the largest positive and negative values in this first PC. Do you see some kind of pattern about which things make a large positive contribution and which ones make a large negative contribution?"
   ]
  },
  {
   "cell_type": "code",
   "execution_count": 8,
   "metadata": {},
   "outputs": [
    {
     "name": "stdout",
     "output_type": "stream",
     "text": [
      "['Aggressive\\n', 'Weird\\n', 'Intelligent\\n', 'Caring\\n', 'Responsible\\n', 'Trustworthy\\n', 'Confident\\n', 'Dominant\\n', 'Attractive\\n', 'Unhappy\\n', 'Sociable\\n', 'EmotionallyStable\\n', 'Mean\\n', 'Boring']\n"
     ]
    }
   ],
   "source": [
    "f=open('Data/face_personality_attributes.txt','r')\n",
    "attributes=f.readlines()\n",
    "print(attributes)\n"
   ]
  },
  {
   "cell_type": "markdown",
   "metadata": {},
   "source": [
    "Repeat this series of steps to look at the 2nd, 3rd and so on PCs. How would you characterize the first 3-4 components based on the attributes that seem to contribute most in different directions (pos. vs. neg?)"
   ]
  }
 ],
 "metadata": {
  "kernelspec": {
   "display_name": "summer_workshop",
   "language": "python",
   "name": "summer_workshop"
  },
  "language_info": {
   "codemirror_mode": {
    "name": "ipython",
    "version": 3
   },
   "file_extension": ".py",
   "mimetype": "text/x-python",
   "name": "python",
   "nbconvert_exporter": "python",
   "pygments_lexer": "ipython3",
   "version": "3.8.8"
  }
 },
 "nbformat": 4,
 "nbformat_minor": 4
}
