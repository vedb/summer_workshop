{
 "cells": [
  {
   "cell_type": "markdown",
   "id": "df0142db",
   "metadata": {},
   "source": [
    "# File loading and plotting\n",
    "In this notebook, we will demonstrate how to load and plot a the types of data that we are principally interested in for this course. "
   ]
  },
  {
   "cell_type": "code",
   "execution_count": null,
   "id": "b55c182a",
   "metadata": {},
   "outputs": [],
   "source": [
    "# Imports\n",
    "import matplotlib.pyplot\n",
    "import numpy as np\n",
    "import cv2\n",
    "# For fancy HTML movie embedding\n",
    "from IPython.display import HTML\n",
    "\n",
    "# VEDB-specific code imports\n",
    "import file_io\n",
    "import plot_utils\n",
    "\n",
    "# Simple class for loading\n",
    "%run ../../session_standalone.py"
   ]
  },
  {
   "cell_type": "markdown",
   "id": "bf97789a",
   "metadata": {},
   "source": [
    "# Simple video loading "
   ]
  },
  {
   "cell_type": "code",
   "execution_count": null,
   "id": "85351466",
   "metadata": {},
   "outputs": [],
   "source": []
  },
  {
   "cell_type": "code",
   "execution_count": null,
   "id": "003c9be7",
   "metadata": {},
   "outputs": [],
   "source": []
  },
  {
   "cell_type": "code",
   "execution_count": null,
   "id": "a2de8f95",
   "metadata": {},
   "outputs": [],
   "source": []
  },
  {
   "cell_type": "code",
   "execution_count": null,
   "id": "3098b7b8",
   "metadata": {},
   "outputs": [],
   "source": [
    "ses = Session.from_folder(folder='/data/2021_01_11_16_33_39/')"
   ]
  }
 ],
 "metadata": {
  "kernelspec": {
   "display_name": "vedb_workshop_test",
   "language": "python",
   "name": "vedb_workshop_test"
  },
  "language_info": {
   "codemirror_mode": {
    "name": "ipython",
    "version": 3
   },
   "file_extension": ".py",
   "mimetype": "text/x-python",
   "name": "python",
   "nbconvert_exporter": "python",
   "pygments_lexer": "ipython3",
   "version": "3.7.10"
  }
 },
 "nbformat": 4,
 "nbformat_minor": 5
}
