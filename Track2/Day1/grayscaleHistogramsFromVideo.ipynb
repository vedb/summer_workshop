{
 "cells": [
  {
   "cell_type": "markdown",
   "id": "07ec0062",
   "metadata": {},
   "source": [
    "## Grayscale Histograms from Video\n",
    "\n",
    "An image's histogram provides a good deal of information about the patterns of light and dark on the images.They can help diagnose whether the video is under- or over-exposed, and to show the relative contrast in the images.\n",
    "\n",
    "This notebook will walk you through plotting grayscale histograms of both single frames and frame series from video."
   ]
  },
  {
   "cell_type": "code",
   "execution_count": null,
   "id": "3322d3e1",
   "metadata": {},
   "outputs": [],
   "source": [
    "# Import necessary libraries\n",
    "import matplotlib.pyplot as plt\n",
    "import numpy as np\n",
    "import cv2\n",
    "# VEDB-specific code imports\n",
    "import file_io\n",
    "import plot_utils"
   ]
  },
  {
   "cell_type": "markdown",
   "id": "5da8b857",
   "metadata": {},
   "source": [
    "Take a look at the data sessions provided here. Each member of your group should pick a different one to see how the results vary from session to session."
   ]
  },
  {
   "cell_type": "code",
   "execution_count": null,
   "id": "712db170",
   "metadata": {},
   "outputs": [],
   "source": [
    "ls /home/data/vedb"
   ]
  },
  {
   "cell_type": "markdown",
   "id": "450b4d50",
   "metadata": {},
   "source": [
    "Use the file_io.load_mp4 that you previously learned about to read in a single frame of your choice in grayscale (note: for all videos, the first 3-5 minutes are calibration, so you may wish to pick a frame after this point (hint: the world camera recorded at 30 frames per second)."
   ]
  },
  {
   "cell_type": "code",
   "execution_count": null,
   "id": "25b44b16",
   "metadata": {},
   "outputs": [],
   "source": []
  },
  {
   "cell_type": "markdown",
   "id": "7ec5631b",
   "metadata": {},
   "source": [
    "Use plt.imshow() to show your frame."
   ]
  },
  {
   "cell_type": "code",
   "execution_count": null,
   "id": "f58ff960",
   "metadata": {},
   "outputs": [],
   "source": []
  },
  {
   "cell_type": "markdown",
   "id": "5666266c",
   "metadata": {},
   "source": [
    "The code from the cell below plots a histogram of your frame. Higher levels near zero indicate gray levels near black and higher levels near one indicate gray levels near white. Compare your histogram to those of your group members. Also feel free to change the frame and re-run this cell to get a sense for the variability within your video."
   ]
  },
  {
   "cell_type": "code",
   "execution_count": null,
   "id": "9c2a9a5d",
   "metadata": {},
   "outputs": [],
   "source": [
    "# Note: please change the first line if your frame is not called \"frame\"\n",
    "plt.hist(frame.ravel(), bins=256, range=(0.0, 1.0)) #ravel flattens image, 1.0=255 here\n",
    "plt.ylabel('Count of Pixels')\n",
    "plt.xlabel('Pixel Value (0=0, 1=255)')"
   ]
  },
  {
   "cell_type": "markdown",
   "id": "d3f2da22",
   "metadata": {},
   "source": [
    "How might we create a histogram from video? Each frame has its own histogram, so we are left with a few options: (1) create a histogram for each frame and need to look at thousands of graphs; or (2) average over all frames and lose contrast; (3) plot the histogram of each frame as a separate trace in the same plot; or (4) Use a \"sliding window\" to average over a few frames at a time and plot a smaller series of histograms.\n",
    "\n",
    "Let's try a couple of these. For brevity, let's create histograms for the first 10 frames of your movie."
   ]
  },
  {
   "cell_type": "code",
   "execution_count": null,
   "id": "0f044d5b",
   "metadata": {},
   "outputs": [],
   "source": [
    "# Use file_io.load_mp4() to load the first 10 frames of your movie in grayscale\n",
    "frames = # fill me in!\n",
    "\n",
    "# set up figure to contain 2 rows, 5 columns of equally sized figures\n",
    "fig, axs = plt.subplots(2,5, figsize=(15, 6), facecolor='w', edgecolor='k')\n",
    "fig.subplots_adjust(hspace = .5, wspace=.001)\n",
    "axs = axs.ravel()\n",
    "\n",
    "# loop through the ten frames and plot histograms in a separate plot\n",
    "for i in range(frames.shape[0]):\n",
    "    axs[i] = plt.hist(frames[i].ravel(), bins=256, range=(0.0, 1.0))"
   ]
  },
  {
   "cell_type": "markdown",
   "id": "229e8d27",
   "metadata": {},
   "source": [
    "You are probably noticing that all of the histograms are pretty similar to one another. What might happen if you load in every Nth frame? Feel free to try using [np.linspace()](https://numpy.org/doc/stable/reference/generated/numpy.linspace.html) to do this."
   ]
  },
  {
   "cell_type": "code",
   "execution_count": null,
   "id": "045be372",
   "metadata": {},
   "outputs": [],
   "source": []
  },
  {
   "cell_type": "markdown",
   "id": "da0cdd8a",
   "metadata": {},
   "source": [
    "The second method is to average over your frames and then compute the histogram. To keep things simple, load in a downsampled version of your video (300x400 pixels in grayscale). Use [np.mean()](https://numpy.org/doc/stable/reference/generated/numpy.mean.html) to average over the frames (hints: get the shape of your frames if you are unsure. axis= tells python which dimension to average over. Remember that python starts counting at 0!)\n",
    "\n",
    "Plot a histogram of the average frame in your video. Compare with the other videos from group members."
   ]
  },
  {
   "cell_type": "code",
   "execution_count": null,
   "id": "4fd692de",
   "metadata": {},
   "outputs": [],
   "source": []
  }
 ],
 "metadata": {
  "kernelspec": {
   "display_name": "summer_workshop",
   "language": "python",
   "name": "summer_workshop"
  },
  "language_info": {
   "codemirror_mode": {
    "name": "ipython",
    "version": 3
   },
   "file_extension": ".py",
   "mimetype": "text/x-python",
   "name": "python",
   "nbconvert_exporter": "python",
   "pygments_lexer": "ipython3",
   "version": "3.7.10"
  }
 },
 "nbformat": 4,
 "nbformat_minor": 5
}
