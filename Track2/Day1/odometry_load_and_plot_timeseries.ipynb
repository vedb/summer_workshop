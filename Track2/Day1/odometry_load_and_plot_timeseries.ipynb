{
 "cells": [
  {
   "cell_type": "markdown",
   "metadata": {},
   "source": [
    "# Plotting odometry data"
   ]
  },
  {
   "cell_type": "markdown",
   "metadata": {},
   "source": [
    "To run this notebook you will need to be working in an environment where pupil_recording_interface and the other packages listed below have been installed. It is suggested to create a new environment called \"odometry\" following the instructions in the readme.\n",
    "    -and to install the pupil_recording_interface package first using 'conda install -c vedb pupil_recording_interface'. "
   ]
  },
  {
   "cell_type": "code",
   "execution_count": null,
   "metadata": {},
   "outputs": [],
   "source": [
    "from pathlib import Path\n",
    "\n",
    "import numpy as np\n",
    "import pandas as pd\n",
    "import xarray as xr\n",
    "import matplotlib.pyplot as plt\n",
    "\n",
    "# Get Session loader from VEDB utils\n",
    "%run ../../code/vedb_utils.py\n",
    "\n",
    "import pupil_recording_interface as pri"
   ]
  },
  {
   "cell_type": "markdown",
   "metadata": {},
   "source": [
    "## Load data"
   ]
  },
  {
   "cell_type": "code",
   "execution_count": null,
   "metadata": {
    "tags": [
     "parameters"
    ]
   },
   "outputs": [],
   "source": [
    "folder = Path(\"/home/data/odometry/\")\n",
    "subject = \"example_session\""
   ]
  },
  {
   "cell_type": "markdown",
   "metadata": {},
   "source": [
    "Below, we use pupil_recording_interface to load the data"
   ]
  },
  {
   "cell_type": "code",
   "execution_count": null,
   "metadata": {},
   "outputs": [],
   "source": [
    "ls /home/data/odometry/"
   ]
  },
  {
   "cell_type": "code",
   "execution_count": null,
   "metadata": {},
   "outputs": [],
   "source": [
    "# Load all fields in a list of dictionaries, from 0 to 12 seconds\n",
    "session = Session(folder=folder / subject)\n",
    "accel_time, accel_all = session.load(\"accel\", time_idx=(0, 12))\n",
    "gyro_time, gyro_all = session.load(\"gyro\", time_idx=(0, 12))\n",
    "odometry_time, odometry_all = session.load('odometry', time_idx=(0, 12))"
   ]
  },
  {
   "cell_type": "code",
   "execution_count": null,
   "metadata": {},
   "outputs": [],
   "source": [
    "# Test run this if you like - big difference in time\n",
    "accelpri = pri.load_dataset(folder / subject, accel=\"recording\", cache=False)\n",
    "gyropri = pri.load_dataset(folder / subject, gyro=\"recording\", cache=False)\n",
    "odometrypri = pri.load_dataset(folder / subject, odometry=\"recording\", cache=False)"
   ]
  },
  {
   "cell_type": "markdown",
   "metadata": {},
   "source": [
    "Now let's see what we've got loaded. The gyroscope angular velocity data takes the form of an array, the 3 dimensions of angular velocity varying over time. Each time point is loaded, by default, as a dictionary. "
   ]
  },
  {
   "cell_type": "code",
   "execution_count": null,
   "metadata": {},
   "outputs": [],
   "source": [
    "gyro_all[0]"
   ]
  },
  {
   "cell_type": "markdown",
   "metadata": {},
   "source": [
    "We can load the data as an array, more amenable to plotting, with the following syntax:"
   ]
  },
  {
   "cell_type": "code",
   "execution_count": null,
   "metadata": {},
   "outputs": [],
   "source": [
    "# Load from zero to 12 seconds\n",
    "gyro_time, gyro_velocity = session.load(\"gyro:angular_velocity\", time_idx=(0, 12))"
   ]
  },
  {
   "cell_type": "code",
   "execution_count": null,
   "metadata": {},
   "outputs": [],
   "source": [
    "gyro_velocity[:10]"
   ]
  },
  {
   "cell_type": "code",
   "execution_count": null,
   "metadata": {},
   "outputs": [],
   "source": [
    "gyro_time[:10]"
   ]
  },
  {
   "cell_type": "markdown",
   "metadata": {},
   "source": [
    "The data is recorded at about 200 Hz and it is in units of radians/sec. Let's plot the first 10 seconds of the data (10sec x 200 frames/sec=2000 frames). Time is diplayed as hour:minute:second of the recording. This is a 5 hour recording, more than 3 million samples! Try editing the start and end indices to explore the data. Can you find segments where the activity is obviously different?"
   ]
  },
  {
   "cell_type": "code",
   "execution_count": null,
   "metadata": {},
   "outputs": [],
   "source": [
    "# Plot gyroscope data against time\n",
    "plt.plot(gyro_time, gyro_velocity)\n",
    "plt.legend(['x','y','z'])"
   ]
  },
  {
   "cell_type": "markdown",
   "metadata": {},
   "source": [
    "OK, now let's look at the raw accelerometer data for the same time period (0 to 12 s)"
   ]
  },
  {
   "cell_type": "code",
   "execution_count": null,
   "metadata": {},
   "outputs": [],
   "source": [
    "accel_time, accel_all = session.load(\"accel\", time_idx=(0, 12))"
   ]
  },
  {
   "cell_type": "markdown",
   "metadata": {},
   "source": [
    "The accelerometer measures linear acceleration"
   ]
  },
  {
   "cell_type": "code",
   "execution_count": null,
   "metadata": {},
   "outputs": [],
   "source": [
    "accel_all[0]"
   ]
  },
  {
   "cell_type": "markdown",
   "metadata": {},
   "source": [
    "We can load this explicitly as an array in the same way as above: "
   ]
  },
  {
   "cell_type": "code",
   "execution_count": null,
   "metadata": {},
   "outputs": [],
   "source": [
    "accel_time, accel = session.load(\"accel:linear_acceleration\", time_idx=(0, 12))"
   ]
  },
  {
   "cell_type": "code",
   "execution_count": null,
   "metadata": {},
   "outputs": [],
   "source": [
    "# For the same time steps as the gyroscope, the accelerometer \n",
    "# collects less data\n",
    "accel_time.shape, accel.shape"
   ]
  },
  {
   "cell_type": "code",
   "execution_count": null,
   "metadata": {},
   "outputs": [],
   "source": [
    "accel[:10]"
   ]
  },
  {
   "cell_type": "code",
   "execution_count": null,
   "metadata": {},
   "outputs": [],
   "source": [
    "gyro[:10]"
   ]
  },
  {
   "cell_type": "markdown",
   "metadata": {},
   "source": [
    "Notice, there are many fewer samples. This is because the accelerometer is only sampling at 60 Hz. We can plot accelerometer data similarly. Measurements are in unti of m/s^2. You can see that the accelerometer is consistently registering gravitational force of close to 9.8 m/s^2 along one or more of the axes. Again, try exploring the data to find segments that are obviously different. What do you think is causing those differences?"
   ]
  },
  {
   "cell_type": "code",
   "execution_count": null,
   "metadata": {},
   "outputs": [],
   "source": [
    "plt.plot(accel_time, accel)\n",
    "plt.legend(['x','y','z'])"
   ]
  },
  {
   "cell_type": "markdown",
   "metadata": {},
   "source": [
    "OK, now let's look at the odometry data. These are the estimates that are generated by the Realsense using visual-inertial simulataneous localization and mapping (VI-SLAM). The main advantage is that we get complete estimates of linear and angular position, velocity, and acceleration, each with 3 degrees of freedom."
   ]
  },
  {
   "cell_type": "code",
   "execution_count": null,
   "metadata": {},
   "outputs": [],
   "source": [
    "odometry_all[0]"
   ]
  },
  {
   "cell_type": "markdown",
   "metadata": {},
   "source": [
    "All the data is at about 200 Hz, but the number of samples differs slightly from the number for the gyroscope. We can load arrays and plot any of these estimates using the same methods we used for the accelerometer and gyroscope. Let's start with exploring linear velocity, expressed in m/s."
   ]
  },
  {
   "cell_type": "code",
   "execution_count": null,
   "metadata": {},
   "outputs": [],
   "source": [
    "linear_velocity_time, linear_velocity = session.load('odometry:linear_velocity', time_idx=(151, 252))"
   ]
  },
  {
   "cell_type": "code",
   "execution_count": null,
   "metadata": {},
   "outputs": [],
   "source": [
    "plt.plot(linear_velocity_time, linear_velocity)\n",
    "plt.legend(['x','y','z'])"
   ]
  },
  {
   "cell_type": "markdown",
   "metadata": {},
   "source": [
    "I've chosen a time segment where velocity transitions from about 0 m/s to about 1 m/s at about 175s into the recording. What is happening here? Another transition occurs around 220 s. What can account for this transition?"
   ]
  },
  {
   "cell_type": "markdown",
   "metadata": {},
   "source": [
    "Now we will load one last dataset that is a processed version of the odometry data. It is stored in a NetCDF file, which is convenient for multidimensional time-varying data."
   ]
  },
  {
   "cell_type": "code",
   "execution_count": null,
   "metadata": {},
   "outputs": [],
   "source": [
    "accel_calib = xr.open_dataset(folder / subject / \"acceleration.nc\")"
   ]
  },
  {
   "cell_type": "markdown",
   "metadata": {},
   "source": [
    "This is loaded in a labeled array callex an xarray. Let's see what we've got"
   ]
  },
  {
   "cell_type": "code",
   "execution_count": null,
   "metadata": {},
   "outputs": [],
   "source": [
    "accel_calib"
   ]
  },
  {
   "cell_type": "markdown",
   "metadata": {},
   "source": [
    "Now let's plot the same time segment for linear velocity that we looked at above (the time axis is different, but this is the same chunk)"
   ]
  },
  {
   "cell_type": "code",
   "execution_count": null,
   "metadata": {
    "scrolled": true
   },
   "outputs": [],
   "source": [
    "start_ind=6000;\n",
    "end_ind=10000;\n",
    "plt.plot(accel_calib.time[start_ind:end_ind],accel_calib.linear_vel[start_ind:end_ind])\n",
    "plt.legend(['x','y','z'])"
   ]
  },
  {
   "cell_type": "markdown",
   "metadata": {},
   "source": [
    "What is different in this processed version of the linear velocity data? What \"processing\" was done?"
   ]
  }
 ],
 "metadata": {
  "kernelspec": {
   "display_name": "summer_workshop",
   "language": "python",
   "name": "summer_workshop"
  },
  "language_info": {
   "codemirror_mode": {
    "name": "ipython",
    "version": 3
   },
   "file_extension": ".py",
   "mimetype": "text/x-python",
   "name": "python",
   "nbconvert_exporter": "python",
   "pygments_lexer": "ipython3",
   "version": "3.7.10"
  }
 },
 "nbformat": 4,
 "nbformat_minor": 4
}
