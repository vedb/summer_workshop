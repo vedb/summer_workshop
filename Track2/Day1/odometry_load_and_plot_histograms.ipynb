{
 "cells": [
  {
   "cell_type": "markdown",
   "metadata": {},
   "source": [
    "# Plotting odometry histograms"
   ]
  },
  {
   "cell_type": "markdown",
   "metadata": {},
   "source": [
    "This notebook builds on the \"Plotting odometry data\" notebook that you were working with earlier. In addition to plotting timeseries we will explore the data by plotting histograms, which accumulates data over time to visualize how samples are distributed. We will work with the same data set as before."
   ]
  },
  {
   "cell_type": "code",
   "execution_count": null,
   "metadata": {},
   "outputs": [],
   "source": [
    "from pathlib import Path\n",
    "\n",
    "import numpy as np\n",
    "import pandas as pd\n",
    "import xarray as xr\n",
    "import matplotlib.pyplot as plt\n",
    "\n",
    "import pupil_recording_interface as pri"
   ]
  },
  {
   "cell_type": "markdown",
   "metadata": {},
   "source": [
    "## Load data"
   ]
  },
  {
   "cell_type": "code",
   "execution_count": null,
   "metadata": {
    "tags": [
     "parameters"
    ]
   },
   "outputs": [],
   "source": [
    "folder = Path(\"/home/data/odometry/\")\n",
    "subject = \"example_session\""
   ]
  },
  {
   "cell_type": "markdown",
   "metadata": {},
   "source": [
    "Below, we use pupil_recording_interface to load the data\n",
    "\n",
    "Note: this is a large file, and this may take a while! (up to 10 mins)."
   ]
  },
  {
   "cell_type": "code",
   "execution_count": null,
   "metadata": {},
   "outputs": [],
   "source": [
    "accel = pri.load_dataset(folder / subject, accel=\"recording\", cache=False)\n",
    "gyro = pri.load_dataset(folder / subject, gyro=\"recording\", cache=False)\n",
    "odometry = pri.load_dataset(folder / subject, odometry=\"recording\", cache=False)"
   ]
  },
  {
   "cell_type": "markdown",
   "metadata": {},
   "source": [
    "As before, we will first look at the raw data from the Realsense gyroscope. First we will plot the full time series.\n"
   ]
  },
  {
   "cell_type": "code",
   "execution_count": null,
   "metadata": {},
   "outputs": [],
   "source": [
    "gyro"
   ]
  },
  {
   "cell_type": "code",
   "execution_count": null,
   "metadata": {},
   "outputs": [],
   "source": [
    "plt.plot(gyro.time,gyro.angular_velocity)\n",
    "plt.legend(['x','y','z'])"
   ]
  },
  {
   "cell_type": "markdown",
   "metadata": {},
   "source": [
    "Now we accumulate the data over time to see how it is distributed for each axis/dimension (x,y,z). We use the matplotlib hist function and specify 100 bins within the range of -2.5 to +2.5 rad/s."
   ]
  },
  {
   "cell_type": "code",
   "execution_count": null,
   "metadata": {},
   "outputs": [],
   "source": [
    "plt.subplot(131)\n",
    "plt.hist(gyro.angular_velocity.sel(cartesian_axis='x'),100,[-2.5,2.5])\n",
    "plt.subplot(132)\n",
    "plt.hist(odometry.angular_velocity.sel(cartesian_axis='y'),100,[-2.5,2.5])\n",
    "plt.subplot(133)\n",
    "plt.hist(odometry.angular_velocity.sel(cartesian_axis='z'),100,[-2.5,2.5]);"
   ]
  },
  {
   "cell_type": "markdown",
   "metadata": {},
   "source": [
    "What we learn from this is that angular velocity along a given axis is very often close to zero and is rarely larger than 1 rad/sec."
   ]
  },
  {
   "cell_type": "markdown",
   "metadata": {},
   "source": [
    "OK, let's try the same thing with the accelerometer data."
   ]
  },
  {
   "cell_type": "code",
   "execution_count": null,
   "metadata": {},
   "outputs": [],
   "source": [
    "accel"
   ]
  },
  {
   "cell_type": "code",
   "execution_count": null,
   "metadata": {},
   "outputs": [],
   "source": [
    "plt.plot(accel.time,accel.linear_acceleration)\n",
    "plt.legend(['x','y','z']);"
   ]
  },
  {
   "cell_type": "markdown",
   "metadata": {},
   "source": [
    "We make histograms with 100 bins again, but we select a different range for each of the axes."
   ]
  },
  {
   "cell_type": "code",
   "execution_count": null,
   "metadata": {},
   "outputs": [],
   "source": [
    "plt.subplot(131)\n",
    "plt.hist(accel.linear_acceleration.sel(cartesian_axis='x'),100,[-10,10])\n",
    "plt.subplot(132)\n",
    "plt.hist(accel.linear_acceleration.sel(cartesian_axis='y'),100,[0,20])\n",
    "plt.subplot(133)\n",
    "plt.hist(accel.linear_acceleration.sel(cartesian_axis='z'),100,[-10,10]);"
   ]
  },
  {
   "cell_type": "markdown",
   "metadata": {},
   "source": [
    "We learn that gravity is acting most often along y-axis, which shows a peak in the histogram near 9.8 m/s^2. We can also observe that these histograms are asymmetrical. Given that the total acceleration is often dominated by gravitational acceleration, what might be causing this assymetry?"
   ]
  },
  {
   "cell_type": "markdown",
   "metadata": {},
   "source": [
    "OK, now lets work with some odometry data."
   ]
  },
  {
   "cell_type": "code",
   "execution_count": null,
   "metadata": {},
   "outputs": [],
   "source": [
    "odometry"
   ]
  },
  {
   "cell_type": "markdown",
   "metadata": {},
   "source": [
    "We have a separate estimate of angular velocity available here. Let's plot it and see whether it differs much from the gyro data."
   ]
  },
  {
   "cell_type": "code",
   "execution_count": null,
   "metadata": {},
   "outputs": [],
   "source": [
    "plt.plot(odometry.time,odometry.angular_velocity)\n",
    "plt.legend(['x','y','z']);"
   ]
  },
  {
   "cell_type": "code",
   "execution_count": null,
   "metadata": {},
   "outputs": [],
   "source": [
    "plt.subplot(131)\n",
    "plt.hist(gyro.angular_velocity.sel(cartesian_axis='x'),100,[-2.5,2.5])\n",
    "plt.subplot(132)\n",
    "plt.hist(odometry.angular_velocity.sel(cartesian_axis='y'),100,[-2.5,2.5])\n",
    "plt.subplot(133)\n",
    "plt.hist(odometry.angular_velocity.sel(cartesian_axis='z'),100,[-2.5,2.5]);"
   ]
  },
  {
   "cell_type": "markdown",
   "metadata": {},
   "source": [
    "There is a gap toward the end of the timeseries plot. This suggests that the odometry suffered some kind of failure during this time segment, but gyro data was still collected. The histograms looks very similar."
   ]
  },
  {
   "cell_type": "markdown",
   "metadata": {},
   "source": [
    "OK, now lets check out the linear velocity estimate, which we only get from the odometry."
   ]
  },
  {
   "cell_type": "code",
   "execution_count": null,
   "metadata": {},
   "outputs": [],
   "source": [
    "plt.plot(odometry.time,odometry.linear_velocity)\n",
    "plt.legend(['x','y','z'])"
   ]
  },
  {
   "cell_type": "code",
   "execution_count": null,
   "metadata": {},
   "outputs": [],
   "source": [
    "plt.subplot(131)\n",
    "plt.hist(odometry.linear_velocity.sel(cartesian_axis='x'),100,[-2,2])\n",
    "plt.subplot(132)\n",
    "plt.hist(odometry.linear_velocity.sel(cartesian_axis='y'),100,[-2,2])\n",
    "plt.subplot(133)\n",
    "plt.hist(odometry.linear_velocity.sel(cartesian_axis='z'),100,[-2,2])"
   ]
  },
  {
   "cell_type": "markdown",
   "metadata": {},
   "source": [
    "The timeseries plot is hard to inspect due to the large transients that occur near the end of the recording. Can you figure out how to recale the y-axis to better inspect this data?"
   ]
  },
  {
   "cell_type": "markdown",
   "metadata": {},
   "source": [
    "The histograms show that data for x and z axes are similarly distributed, whereas y-axis data (velocity in the vertical direction) shows much less variance. But recall that this raw odometry data is different from the processed data. Let's look at that now."
   ]
  },
  {
   "cell_type": "code",
   "execution_count": null,
   "metadata": {},
   "outputs": [],
   "source": [
    "accel_calib = xr.open_dataset(folder / subject / \"acceleration.nc\")"
   ]
  },
  {
   "cell_type": "code",
   "execution_count": null,
   "metadata": {},
   "outputs": [],
   "source": [
    "accel_calib"
   ]
  },
  {
   "cell_type": "code",
   "execution_count": null,
   "metadata": {},
   "outputs": [],
   "source": [
    "plt.plot(accel_calib.time,accel_calib.linear_vel)\n",
    "plt.legend(['x','y','z'])"
   ]
  },
  {
   "cell_type": "code",
   "execution_count": null,
   "metadata": {},
   "outputs": [],
   "source": [
    "plt.subplot(131)\n",
    "plt.hist(accel_calib.linear_vel.sel(cartesian_axis='x'),100,[-2,2])\n",
    "plt.subplot(132)\n",
    "plt.hist(accel_calib.linear_vel.sel(cartesian_axis='y'),100,[-2,2])\n",
    "plt.subplot(133)\n",
    "plt.hist(accel_calib.linear_vel.sel(cartesian_axis='z'),100,[-2,2]);"
   ]
  },
  {
   "cell_type": "markdown",
   "metadata": {},
   "source": [
    "Notice that these histograms have a very different shape. The histogram for the x-axis linear velocity is bimodal, with a second peak near 1 m/s. And  the y and z-axis histograms show a similar distribution. What can account for these changes relative to the unprocessed linear velocity data?"
   ]
  },
  {
   "cell_type": "markdown",
   "metadata": {},
   "source": [
    "Now, we will generate a 2D histogram of the y and z axis linear velocity data. "
   ]
  },
  {
   "cell_type": "code",
   "execution_count": null,
   "metadata": {},
   "outputs": [],
   "source": [
    "plt.hist2d(accel_calib.linear_vel.sel(cartesian_axis='z'),accel_calib.linear_vel.sel(cartesian_axis='y'),100,[[-.1,.1],[-.1,.1]]);"
   ]
  },
  {
   "cell_type": "markdown",
   "metadata": {},
   "source": [
    "This histogram shows the components of linear velocity acting along the head-horiztonal (inter-aural) and head-vertical axes. This is a proxy for the direction of linear velocity in the frontal plane, also known as the heading direction. It is centered around straight ahead, because humans face forward in the direction they are walking, but with some variability due to head bob and shake during walking. "
   ]
  },
  {
   "cell_type": "markdown",
   "metadata": {},
   "source": [
    "We can learn something similar by examining the gravitational acceleration field of the processed accelerometer data. This data indicates how the components of the gravity vector (9.8 m/s^2) are distributed along the head-centered x, y, and z axes. From this data, we can learn how the head is tilted relative to gravity."
   ]
  },
  {
   "cell_type": "code",
   "execution_count": null,
   "metadata": {},
   "outputs": [],
   "source": [
    "plt.subplot(131)\n",
    "plt.hist(accel_calib.gravitational_acc.sel(cartesian_axis='x'),100,[-10,10])\n",
    "plt.subplot(132)\n",
    "plt.hist(accel_calib.gravitational_acc.sel(cartesian_axis='y'),100,[-10,10])\n",
    "plt.subplot(133)\n",
    "plt.hist(accel_calib.gravitational_acc.sel(cartesian_axis='z'),100,[-10,10]);"
   ]
  },
  {
   "cell_type": "code",
   "execution_count": null,
   "metadata": {},
   "outputs": [],
   "source": [
    "plt.hist2d(accel_calib.gravitational_acc.sel(cartesian_axis='y'),accel_calib.gravitational_acc.sel(cartesian_axis='x'),100)"
   ]
  },
  {
   "cell_type": "markdown",
   "metadata": {},
   "source": [
    "The vertical and horiztonal axes show how the head is pitched and rolled realtive to gravity. The vertical distrbituions is skewed toward the downward direction, that is downward head tilt."
   ]
  }
 ],
 "metadata": {
  "kernelspec": {
   "display_name": "summer_workshop",
   "language": "python",
   "name": "summer_workshop"
  },
  "language_info": {
   "codemirror_mode": {
    "name": "ipython",
    "version": 3
   },
   "file_extension": ".py",
   "mimetype": "text/x-python",
   "name": "python",
   "nbconvert_exporter": "python",
   "pygments_lexer": "ipython3",
   "version": "3.7.10"
  }
 },
 "nbformat": 4,
 "nbformat_minor": 4
}
