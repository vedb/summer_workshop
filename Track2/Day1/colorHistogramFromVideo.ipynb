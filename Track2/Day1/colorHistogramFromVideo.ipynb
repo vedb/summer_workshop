{
 "cells": [
  {
   "cell_type": "markdown",
   "id": "06add0a6",
   "metadata": {},
   "source": [
    "## Color Histograms from Video\n",
    "\n",
    "When videos are in color, we can get more information from them when we plot the histograms from all three color channels (red, green, and blue)."
   ]
  },
  {
   "cell_type": "code",
   "execution_count": null,
   "id": "d984f9d4",
   "metadata": {},
   "outputs": [],
   "source": [
    "# Import necessary libraries\n",
    "import matplotlib.pyplot as plt\n",
    "import numpy as np\n",
    "import cv2\n",
    "# VEDB-specific code imports\n",
    "import file_io\n",
    "import plot_utils"
   ]
  },
  {
   "cell_type": "markdown",
   "id": "826e2a41",
   "metadata": {},
   "source": [
    "Use the file_io.load_mp4 that you previously learned about to read in a single frame of your choice, this time in RGB color (note: for all videos, the first 3-5 minutes are calibration, so you may wish to pick a frame after this point (hint: the world camera recorded at 30 frames per second)."
   ]
  },
  {
   "cell_type": "code",
   "execution_count": null,
   "id": "a71a6719",
   "metadata": {},
   "outputs": [],
   "source": []
  },
  {
   "cell_type": "markdown",
   "id": "511a6a8f",
   "metadata": {},
   "source": [
    "Print the shape of your frame to confirm its dimensions."
   ]
  },
  {
   "cell_type": "code",
   "execution_count": null,
   "id": "b042cad6",
   "metadata": {},
   "outputs": [],
   "source": []
  },
  {
   "cell_type": "markdown",
   "id": "4f30c212",
   "metadata": {},
   "source": [
    "Here, we are going to plot the color histogram of this frame in two ways. In this first, we will loop through the R, G, and B color channels and plot each channel as a density histogram in its respective color. In the second, we will convert the frame to [LAB colorspace](https://en.wikipedia.org/wiki/CIELAB_color_space). In this space, L stands for luminance (black to white) and we will discard it. We will make a two-dimensional histogram from the A* channel (green to red) and the B* channel (yellow to blue)."
   ]
  },
  {
   "cell_type": "code",
   "execution_count": null,
   "id": "fecfbeb2",
   "metadata": {},
   "outputs": [],
   "source": [
    "# Method 1: RGB density plot\n",
    "# First, let's define the names of the color channels and their indices\n",
    "colors = (\"r\",\"g\",\"b\")\n",
    "channelIdx = (0, 1, 2)\n",
    "\n",
    "# define a common x axis\n",
    "plt.xlim([0,256])\n",
    "\n",
    "# create three histogram line plots, one for each color\n",
    "for channelIdx, c in zip(channelIdx, colors):\n",
    "    histogram, bin_edges = np.histogram(\n",
    "        frame[:, :, channelIdx], bins=256, range=(0,256)\n",
    "        )\n",
    "    plt.plot(bin_edges[0:-1], histogram, color=c)\n",
    "    \n",
    "plt.title(\"RGB Histogram\")\n",
    "plt.xlabel(\"Pixel Value\")\n",
    "plt.ylabel(\"Pixel Count\")"
   ]
  },
  {
   "cell_type": "markdown",
   "id": "01fc0268",
   "metadata": {},
   "source": [
    "Now for the second method. We will use OpenCV to first convert the frame from RGB to LAB."
   ]
  },
  {
   "cell_type": "code",
   "execution_count": null,
   "id": "3378674c",
   "metadata": {},
   "outputs": [],
   "source": [
    "LAB_frame = cv2.cvtColor(frame, cv2.COLOR_RGB2LAB)"
   ]
  },
  {
   "cell_type": "markdown",
   "id": "a9901570",
   "metadata": {},
   "source": [
    "Now, print the shape of the new frame. Although it looks like it has the same shape, now we can use the second and third color channels to make our 2D histogram."
   ]
  },
  {
   "cell_type": "code",
   "execution_count": null,
   "id": "4363fbae",
   "metadata": {},
   "outputs": [],
   "source": []
  },
  {
   "cell_type": "code",
   "execution_count": null,
   "id": "41585f0b",
   "metadata": {},
   "outputs": [],
   "source": [
    "# Step 1: isolate the second and third color channels\n",
    "AB_frame = LAB_frame[:, :, 1:3] # remember that the end of the range is non-inclusive\n",
    "\n",
    "# Step 2: Create 2D histogram\n",
    "plt.hist2d(AB_frame[:, :, 0].ravel(), AB_frame[:, :, 1].ravel(), bins =[256, 256])\n",
    "plt.xlabel('A channel (red to green)')\n",
    "plt.ylabel('B channel (yellow to blue)')\n",
    "plt.colorbar()"
   ]
  }
 ],
 "metadata": {
  "kernelspec": {
   "display_name": "summer_workshop",
   "language": "python",
   "name": "summer_workshop"
  },
  "language_info": {
   "codemirror_mode": {
    "name": "ipython",
    "version": 3
   },
   "file_extension": ".py",
   "mimetype": "text/x-python",
   "name": "python",
   "nbconvert_exporter": "python",
   "pygments_lexer": "ipython3",
   "version": "3.8.8"
  }
 },
 "nbformat": 4,
 "nbformat_minor": 5
}
