{
 "cells": [
  {
   "cell_type": "markdown",
   "metadata": {},
   "source": [
    "# Mediapipe Hand Detection\n",
    "## A Simple Script to run body detection code on a video "
   ]
  },
  {
   "cell_type": "markdown",
   "metadata": {},
   "source": [
    "### Please make sure you have Mediapipe installed on your system\n",
    "### Checkout this [link](https://pypi.org/project/mediapipe/) for more information"
   ]
  },
  {
   "cell_type": "markdown",
   "metadata": {},
   "source": [
    "#### You'd need to pass the following arguments to the python script:\n",
    "* video_path : video file path\n",
    "* save_path : saving directory for the results (in this case output video)\n",
    "* start_index : an int for start frame index\n",
    "* end_index : an int for end frame index"
   ]
  },
  {
   "cell_type": "markdown",
   "metadata": {},
   "source": [
    "## Once you have the code running correctly you'd see a window showing the algorithm's output, you can quit at any time by pressing escape and check out saved the output video"
   ]
  },
  {
   "cell_type": "code",
   "execution_count": 4,
   "metadata": {},
   "outputs": [
    {
     "name": "stdout",
     "output_type": "stream",
     "text": [
      "args: ['mp_detect_faces.py', '/home/veddy06/ownCloud/vedbcloud0/staging/2021_03_31_12_58_47/world.mp4', '/home/veddy06/ownCloud/lab/students/kamran/Projects/Face_Detection/output', '28800', '30600']\n",
      "total frame count: 39394.0\n",
      "output video file:  /home/veddy06/ownCloud/lab/students/kamran/Projects/Face_Detection/output/detected_face.mp4\n",
      "Start: 28800 and End Frames: 30600\n",
      "Done!\n"
     ]
    }
   ],
   "source": [
    "video_path = \"/home/veddy06/ownCloud/vedbcloud0/staging/2021_03_31_12_58_47/world.mp4\"\n",
    "save_path = \"/home/veddy06/ownCloud/lab/students/kamran/Projects/Face_Detection/output\"\n",
    "\n",
    "# Let's pass indexes from minute 15 to minute 16 of the video\n",
    "# This video is recorded as fps = 30\n",
    "start_index = 16*60*30\n",
    "end_index = 17*60*30\n",
    "\n",
    "%run mp_detect_faces.py $video_path $save_path $start_index $end_index"
   ]
  }
 ],
 "metadata": {
  "kernelspec": {
   "display_name": "Python 3",
   "language": "python",
   "name": "python3"
  },
  "language_info": {
   "codemirror_mode": {
    "name": "ipython",
    "version": 3
   },
   "file_extension": ".py",
   "mimetype": "text/x-python",
   "name": "python",
   "nbconvert_exporter": "python",
   "pygments_lexer": "ipython3",
   "version": "3.6.9"
  }
 },
 "nbformat": 4,
 "nbformat_minor": 2
}
