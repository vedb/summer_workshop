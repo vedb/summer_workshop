{
 "cells": [
  {
   "cell_type": "markdown",
   "metadata": {},
   "source": [
    "# Mediapipe Face Detection\n",
    "## A Simple Script to run body detection code on a video "
   ]
  },
  {
   "cell_type": "markdown",
   "metadata": {},
   "source": [
    "### Please make sure you have Mediapipe installed on your system\n",
    "### Checkout this [link](https://pypi.org/project/mediapipe/) for more information"
   ]
  },
  {
   "cell_type": "markdown",
   "metadata": {},
   "source": [
    "#### You'd need to pass the following arguments to the python script:\n",
    "* video_path : video file path\n",
    "* save_path : saving directory for the results (in this case output video)\n",
    "* start_index : an int for start frame index\n",
    "* end_index : an int for end frame index"
   ]
  },
  {
   "cell_type": "markdown",
   "metadata": {},
   "source": [
    "## Once you have the code running correctly you'd see a window showing the algorithm's output, you can quit at any time by pressing escape and check out saved the output video"
   ]
  },
  {
   "cell_type": "code",
   "execution_count": null,
   "metadata": {},
   "outputs": [
    {
     "name": "stdout",
     "output_type": "stream",
     "text": [
      "args: ['mp_detect_faces.py', '/home/data/vedb/2021_03_14_14_13_55/world.mp4', '/home/kbinaee/Code/summer_workshop/Track2/Day4/Face_Detection', '7200', '9000']\n",
      "total frame count: 24044.0\n",
      "output video file:  /home/kbinaee/Code/summer_workshop/Track2/Day4/Face_Detection/detected_face.mp4\n",
      "Start: 7200 and End Frames: 9000\n"
     ]
    }
   ],
   "source": [
    "video_path = \"/home/data/vedb/2021_03_14_14_13_55/world.mp4\"\n",
    "save_path = \"/home/kbinaee/Code/summer_workshop/Track2/Day4/Face_Detection\"\n",
    "\n",
    "# Let's pass indexes from minute 4 to minute 5 of the video\n",
    "# This video is recorded as fps = 30\n",
    "start_index = 4*60*30\n",
    "end_index = 5*60*30\n",
    "\n",
    "%run mp_detect_faces.py $video_path $save_path $start_index $end_index"
   ]
  },
  {
   "cell_type": "markdown",
   "metadata": {},
   "source": [
    "### This will save output video as detected_face.mp4\n",
    "### Download and see how/when the algorithm fails"
   ]
  },
  {
   "cell_type": "markdown",
   "metadata": {},
   "source": [
    "### If you want to run the code above on your local machine you can pass argument show_output=True to see the output video during run time"
   ]
  },
  {
   "cell_type": "code",
   "execution_count": null,
   "metadata": {},
   "outputs": [],
   "source": [
    "show_output = True\n",
    "%run mp_detect_faces.py $video_path $save_path $start_index $end_index $show_output"
   ]
  }
 ],
 "metadata": {
  "kernelspec": {
   "display_name": "summer_workshop",
   "language": "python",
   "name": "summer_workshop"
  },
  "language_info": {
   "codemirror_mode": {
    "name": "ipython",
    "version": 3
   },
   "file_extension": ".py",
   "mimetype": "text/x-python",
   "name": "python",
   "nbconvert_exporter": "python",
   "pygments_lexer": "ipython3",
   "version": "3.7.10"
  }
 },
 "nbformat": 4,
 "nbformat_minor": 2
}
