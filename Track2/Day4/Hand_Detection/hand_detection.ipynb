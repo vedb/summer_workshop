{
 "cells": [
  {
   "cell_type": "markdown",
   "metadata": {},
   "source": [
    "# Mediapipe Hand Detection\n",
    "## A Simple Script to run body detection code on a video "
   ]
  },
  {
   "cell_type": "markdown",
   "metadata": {},
   "source": [
    "### Please make sure you have Mediapipe installed on your system\n",
    "### Checkout this [link](https://pypi.org/project/mediapipe/) for more information"
   ]
  },
  {
   "cell_type": "markdown",
   "metadata": {},
   "source": [
    "#### You'd need to pass the following arguments to the python script:\n",
    "* video_path : video file path\n",
    "* save_path : saving directory for the results (in this case output video)\n",
    "* start_index : an int for start frame index\n",
    "* end_index : an int for end frame index"
   ]
  },
  {
   "cell_type": "markdown",
   "metadata": {},
   "source": [
    "## Once you have the code running correctly you'd see a window showing the algorithm's output and you can quit at any time and check out saved the output video"
   ]
  },
  {
   "cell_type": "code",
   "execution_count": null,
   "metadata": {},
   "outputs": [],
   "source": [
    "video_path = \"/home/data/vedb/2021_03_14_14_13_55/world.mp4\"\n",
    "save_path = \"./\"\n",
    "\n",
    "# Let's pass indexes from minute 1 to minute 2 of the video\n",
    "# This video is recorded as fps = 30\n",
    "start_index = 1*60*30\n",
    "end_index = 2*60*30\n",
    "\n",
    "%run mp_detect_hands.py $video_path $save_path $start_index $end_index"
   ]
  },
  {
   "cell_type": "markdown",
   "metadata": {},
   "source": [
    "### This will save output video as detected_hand.mp4\n",
    "### Download and see how/when the algorithm fails"
   ]
  },
  {
   "cell_type": "markdown",
   "metadata": {},
   "source": [
    "### If you want to run the code above on your local machine you can pass argument show_output=True to see the output video during run time"
   ]
  },
  {
   "cell_type": "code",
   "execution_count": null,
   "metadata": {},
   "outputs": [],
   "source": [
    "show_output = True\n",
    "%run mp_detect_hands.py $video_path $save_path $start_index $end_index $show_output"
   ]
  },
  {
   "cell_type": "code",
   "execution_count": null,
   "metadata": {},
   "outputs": [],
   "source": []
  }
 ],
 "metadata": {
  "kernelspec": {
   "display_name": "mediapipe",
   "language": "python",
   "name": "mediapipe"
  },
  "language_info": {
   "codemirror_mode": {
    "name": "ipython",
    "version": 3
   },
   "file_extension": ".py",
   "mimetype": "text/x-python",
   "name": "python",
   "nbconvert_exporter": "python",
   "pygments_lexer": "ipython3",
   "version": "3.8.10"
  }
 },
 "nbformat": 4,
 "nbformat_minor": 2
}
