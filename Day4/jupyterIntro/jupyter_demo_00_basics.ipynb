{
 "cells": [
  {
   "cell_type": "markdown",
   "metadata": {},
   "source": [
    "# Basic jupyter overview\n",
    "This notebook is a demo of basic jupyter notebook functionality.\n",
    "\n",
    "We will cover: \n",
    "### 1. Folder navigation\n",
    "    * jupyter home page\n",
    "    * terminal commands in notebooks\n",
    "### 2. python cell execution\n",
    "    * order of operations\n",
    "    * autocompletion\n",
    "    * workspaces\n",
    "    * restarting the kernel\n",
    "### 3. Magic (%) commands \n",
    "    * %run, %load\n",
    "### 4. Command mode\n",
    "    * Adding cells\n",
    "    * Deleting cells\n",
    "    * Find and replace\n",
    "### 5. Getting help\n",
    "    * hotkeys (notebook help)\n",
    "    * docstrings (python function help)"
   ]
  },
  {
   "cell_type": "markdown",
   "metadata": {},
   "source": [
    "# Folder navigation\n",
    "terminal navigation commands work in your notebook:"
   ]
  },
  {
   "cell_type": "code",
   "execution_count": null,
   "metadata": {},
   "outputs": [],
   "source": [
    "ls"
   ]
  },
  {
   "cell_type": "code",
   "execution_count": null,
   "metadata": {},
   "outputs": [],
   "source": [
    "cd data/"
   ]
  },
  {
   "cell_type": "code",
   "execution_count": null,
   "metadata": {},
   "outputs": [],
   "source": [
    "pwd"
   ]
  },
  {
   "cell_type": "code",
   "execution_count": null,
   "metadata": {},
   "outputs": [],
   "source": [
    "cd .."
   ]
  },
  {
   "cell_type": "markdown",
   "metadata": {},
   "source": [
    "If you put an exclamation point before a command, the notebook assumes that a terminal command follows, and executes that command. The following cell uses the terminal command `cat` to display the text contents of the script `random_number_script.py`, which is in the same directory as this notebook."
   ]
  },
  {
   "cell_type": "code",
   "execution_count": null,
   "metadata": {},
   "outputs": [],
   "source": [
    "!cat random_number_script.py"
   ]
  },
  {
   "cell_type": "markdown",
   "metadata": {},
   "source": [
    "# Python cell execution\n",
    "Press `shift+enter` to run each of the following cells!"
   ]
  },
  {
   "cell_type": "code",
   "execution_count": null,
   "metadata": {},
   "outputs": [],
   "source": [
    "# Basic command execution: Press shift-enter! \n",
    "print('Hello world!')"
   ]
  },
  {
   "cell_type": "code",
   "execution_count": null,
   "metadata": {},
   "outputs": [],
   "source": [
    "# Import libraries of code to add functionality to your python session\n",
    "import matplotlib.pyplot as plt\n",
    "import numpy as np"
   ]
  },
  {
   "cell_type": "code",
   "execution_count": null,
   "metadata": {},
   "outputs": [],
   "source": [
    "np.sqrt(16)"
   ]
  },
  {
   "cell_type": "code",
   "execution_count": null,
   "metadata": {},
   "outputs": [],
   "source": [
    "# Variables are defined using the = sign\n",
    "a = 1\n",
    "b = 2"
   ]
  },
  {
   "cell_type": "code",
   "execution_count": null,
   "metadata": {},
   "outputs": [],
   "source": [
    "# Variables are constant across cells in a session\n",
    "c = a + b\n",
    "print(c)"
   ]
  },
  {
   "cell_type": "code",
   "execution_count": null,
   "metadata": {
    "scrolled": true
   },
   "outputs": [],
   "source": [
    "# Simple plotting\n",
    "xdata = np.array([0, 1, 2, 3, 4, 5, 6, 7])\n",
    "ydata = np.random.randn(len(xdata))\n",
    "plt.plot(xdata, ydata)"
   ]
  },
  {
   "cell_type": "markdown",
   "metadata": {},
   "source": [
    "# Magic commands\n",
    "Magic commands are preceded by `%` in jupyter notebooks. These provide special functionality; you can read a summary of common magic commands [here](https://towardsdatascience.com/top-10-magic-commands-in-python-to-boost-your-productivity-1acac061c7a9), or the full complicated details [here](https://ipython.readthedocs.io/en/stable/interactive/magics.html). "
   ]
  },
  {
   "cell_type": "code",
   "execution_count": null,
   "metadata": {},
   "outputs": [],
   "source": [
    "ls"
   ]
  },
  {
   "cell_type": "code",
   "execution_count": null,
   "metadata": {},
   "outputs": [],
   "source": [
    "%load random_number_script.py"
   ]
  },
  {
   "cell_type": "code",
   "execution_count": null,
   "metadata": {},
   "outputs": [],
   "source": [
    "%run random_number_script.py"
   ]
  },
  {
   "cell_type": "code",
   "execution_count": null,
   "metadata": {},
   "outputs": [],
   "source": [
    "%whos"
   ]
  },
  {
   "cell_type": "markdown",
   "metadata": {},
   "source": [
    "# Command mode \n",
    "Jupyter notebooks have two modes: command mode and edit mode. You can tell which mode you are in by the color of the border of the highlighted cell. If it's green, you're in edit mode; if it's blue, you're in command mode. If you are in command mode, certain keypresses perform different actions. We will run through a few examples of how to use command mode below. \n",
    "\n",
    "You can switch between the modes by pressing `ESC` or `ctrl+m` (i.e. hold the control key and press `m`) to enter command mode, or `ENTER` to enter edit mode. \n",
    "\n",
    "Some examples:\n",
    "1. Add a cell above this cell: Highlight the cell, press the `ESC` key (so the cell border turns blue, not green), and then press `a`\n",
    "2. Delete that cell by pressing `d` twice (while still in command mode)\n",
    "3. Convert the cell below this one to a code cell by highlighting it in command mode (blue outline!) and then pressing `y`; run it by pressing `shift+enter`\n",
    "4. Perform a find and replace in the cell labeled **\"Find and replace example\"** Highlight the cell in command mode (blue outline), and press the `f` key to bring up the find and replace dialog. Change the phrase \"ice cream\" to some other form of food. (Note: this works for code cells too!)\n",
    "5. Most useful of all: press `h` for help with hotkeys!"
   ]
  },
  {
   "cell_type": "code",
   "execution_count": null,
   "metadata": {},
   "outputs": [],
   "source": [
    "d = 3\n",
    "e = 4\n",
    "print(d + e)"
   ]
  },
  {
   "cell_type": "markdown",
   "metadata": {},
   "source": [
    "If you try to run this cell, it will fail! If you want a cell to be text only, convet it to markdown by highlighting the cell while in command mode and pressing `m`"
   ]
  },
  {
   "cell_type": "markdown",
   "metadata": {},
   "source": [
    "## Find and replace example\n",
    "One of my favorite foods is curry. I love curry. In my old neighborhood we had four curry shops. It was like heaven."
   ]
  },
  {
   "cell_type": "markdown",
   "metadata": {},
   "source": [
    "# A note on text cells\n",
    "Text cells in jupyter notebooks are formatted with *markdown*; you can read more about how to format text to look fancy in markdown [here](https://www.markdownguide.org/cheat-sheet/). \n",
    "\n",
    "For example, you can make a text cell look like python code:\n",
    "```python\n",
    "a = 13\n",
    "b = 4\n",
    "print('hello world!')\n",
    "```\n",
    "\n",
    "Text can be in **bold** or *italic*, and you can make fancy looking equations with LaTeX syntax: \n",
    "\n",
    "$\\hat{\\beta} = (X^TX)^{-1}X^TY$"
   ]
  },
  {
   "cell_type": "markdown",
   "metadata": {},
   "source": [
    "# Getting help"
   ]
  },
  {
   "cell_type": "code",
   "execution_count": null,
   "metadata": {},
   "outputs": [],
   "source": []
  }
 ],
 "metadata": {
  "kernelspec": {
   "display_name": "Python 3",
   "language": "python",
   "name": "python3"
  },
  "language_info": {
   "codemirror_mode": {
    "name": "ipython",
    "version": 3
   },
   "file_extension": ".py",
   "mimetype": "text/x-python",
   "name": "python",
   "nbconvert_exporter": "python",
   "pygments_lexer": "ipython3",
   "version": "3.8.3"
  }
 },
 "nbformat": 4,
 "nbformat_minor": 4
}
