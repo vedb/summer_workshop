{
 "cells": [
  {
   "cell_type": "markdown",
   "metadata": {},
   "source": [
    "# Demo of marker detection\n",
    "\n",
    "This code demonstrates the use of opencv to detect checkerboards in an image. This is what we use to detect our validation markers to check on how accurate our gaze is for our Visual Experience Database project. "
   ]
  },
  {
   "cell_type": "code",
   "execution_count": null,
   "metadata": {},
   "outputs": [],
   "source": [
    "# Import the \n",
    "import matplotlib.pyplot as plt\n",
    "import numpy as np\n",
    "import cv2"
   ]
  },
  {
   "cell_type": "code",
   "execution_count": null,
   "metadata": {},
   "outputs": [],
   "source": [
    "# Load an image\n",
    "img = cv2.imread('vedb_checkerboard_00.png')\n",
    "print('Color image size is:', img.shape)\n",
    "# Convert to grayscale (luminance only)\n",
    "img_gray = cv2.cvtColor(img, cv2.COLOR_BGR2GRAY)\n",
    "print(\"Gray image size is: \", img_gray.shape)"
   ]
  },
  {
   "cell_type": "code",
   "execution_count": null,
   "metadata": {},
   "outputs": [],
   "source": [
    "# Show the image!\n",
    "plt.figure(figsize=(12, 9))\n",
    "plt.imshow(img_gray, cmap='gray')"
   ]
  },
  {
   "cell_type": "code",
   "execution_count": null,
   "metadata": {},
   "outputs": [],
   "source": [
    "# Find a validation marker!\n",
    "checkerboard_size = (3, 6)\n",
    "found_checkerboard, checkerboard_corners = cv2.findChessboardCorners(img_gray, checkerboard_size)\n",
    "x = checkerboard_corners[:, 0, 0]\n",
    "y = checkerboard_corners[:, 0, 1]\n",
    "_ = plt.figure(figsize=(12, 9))\n",
    "_ = plt.imshow(img_gray, cmap='gray')\n",
    "_ = plt.scatter(x, y, color='yellow', s=10)\n",
    "_ = plt.scatter(x.mean(), y.mean(), color='red', s=100)"
   ]
  },
  {
   "cell_type": "code",
   "execution_count": null,
   "metadata": {},
   "outputs": [],
   "source": []
  }
 ],
 "metadata": {
  "kernelspec": {
   "display_name": "Python 3",
   "language": "python",
   "name": "python3"
  },
  "language_info": {
   "codemirror_mode": {
    "name": "ipython",
    "version": 3
   },
   "file_extension": ".py",
   "mimetype": "text/x-python",
   "name": "python",
   "nbconvert_exporter": "python",
   "pygments_lexer": "ipython3",
   "version": "3.8.3"
  }
 },
 "nbformat": 4,
 "nbformat_minor": 4
}
