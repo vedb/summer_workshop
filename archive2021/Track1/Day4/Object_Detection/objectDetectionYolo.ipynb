{
 "cells": [
  {
   "cell_type": "markdown",
   "metadata": {},
   "source": [
    "# Object Detection using YOLO"
   ]
  },
  {
   "cell_type": "markdown",
   "metadata": {},
   "source": [
    "# In this notebook we will be using a light version of YOLO\n",
    "### Please make sure you have completed other exercise by Dr. Greene before proceeding"
   ]
  },
  {
   "cell_type": "markdown",
   "metadata": {},
   "source": [
    "# 0) Data Path\n",
    "### We have saved the object detection data into a folder under the /home/data on Phi\n",
    "### Please make sure this is the correct path when you're running on remote or local machine\n",
    "### For being able to run these codes on your local machine you'd download and modify the path accordingly"
   ]
  },
  {
   "cell_type": "code",
   "execution_count": 5,
   "metadata": {},
   "outputs": [],
   "source": [
    "# Where the model files are stored \n",
    "model_path = \"/home/data/Yolo\"\n",
    "# model_path = \"/home/veddy06/ownCloud/lab/students/kamran/Projects/SummerSchool/HandsOn_Exercise_2/Yolo\"\n",
    "\n",
    "# path to the video file\n",
    "video_path = \"/home/data/ObjectDetectionData/video_1.mp4\"\n",
    "# video_path = \"/home/veddy06/ownCloud/lab/students/kamran/Projects/SummerSchool/HandsOn_Exercise_2/ObjectDetectionData/video_1.mp4\""
   ]
  },
  {
   "cell_type": "markdown",
   "metadata": {},
   "source": [
    "# 1) Object Detection"
   ]
  },
  {
   "cell_type": "code",
   "execution_count": null,
   "metadata": {},
   "outputs": [
    {
     "name": "stdout",
     "output_type": "stream",
     "text": [
      "args: ['detect_objects.py', '/home/data/ObjectDetectionData/video_1.mp4', '/home/data/Yolo', '300', '900']\n",
      "reading from:  /home/data/ObjectDetectionData/video_1.mp4\n",
      "FPS:  30.000008920609254\n"
     ]
    }
   ],
   "source": [
    "\n",
    "# Let's pass indexes from minute 0 seconds 10 to minute 2 of the video\n",
    "# This video is recorded as fps = 30\n",
    "start_index = 10*30\n",
    "end_index = 2*60*30\n",
    "\n",
    "%run detect_objects.py $video_path $model_path $start_index $end_index"
   ]
  },
  {
   "cell_type": "markdown",
   "metadata": {},
   "source": [
    "### If you got everything running correctly you'd see the detected objects with their bounding boxes for each frame"
   ]
  },
  {
   "cell_type": "markdown",
   "metadata": {},
   "source": [
    "### Checkout the detected_objects.txt where we saved the object label and its bounding box positions. Is there anything missing there?"
   ]
  },
  {
   "cell_type": "markdown",
   "metadata": {},
   "source": [
    "### Can you think of a way to save these objects into a csv file for instance to be able to use them later?"
   ]
  },
  {
   "cell_type": "markdown",
   "metadata": {},
   "source": [
    "### Are different objects detected in different frames actually different? How does this affect us if we want to track a certain object across different frames of the video "
   ]
  },
  {
   "cell_type": "code",
   "execution_count": null,
   "metadata": {},
   "outputs": [],
   "source": []
  }
 ],
 "metadata": {
  "kernelspec": {
   "display_name": "summer_workshop",
   "language": "python",
   "name": "summer_workshop"
  },
  "language_info": {
   "codemirror_mode": {
    "name": "ipython",
    "version": 3
   },
   "file_extension": ".py",
   "mimetype": "text/x-python",
   "name": "python",
   "nbconvert_exporter": "python",
   "pygments_lexer": "ipython3",
   "version": "3.7.10"
  }
 },
 "nbformat": 4,
 "nbformat_minor": 4
}
