{
 "cells": [
  {
   "cell_type": "markdown",
   "metadata": {},
   "source": [
    "## Welcome to these exercises in grayscale histograms! \n",
    "\n",
    "As we will usually begin, we will need to import some libraries to give python extra functionality. For this exercise, we will be using matplotlib for plotting and reading images, and numpy for calculations. Run the cell below (shift-enter) to import these libraries."
   ]
  },
  {
   "cell_type": "code",
   "execution_count": null,
   "metadata": {},
   "outputs": [],
   "source": [
    "# Import necessary libraries\n",
    "import matplotlib.pyplot as plt\n",
    "import matplotlib.image as img\n",
    "import numpy as np"
   ]
  },
  {
   "cell_type": "markdown",
   "metadata": {},
   "source": [
    "In the cell below, use ls to understand the contents of this folder."
   ]
  },
  {
   "cell_type": "code",
   "execution_count": null,
   "metadata": {},
   "outputs": [],
   "source": []
  },
  {
   "cell_type": "markdown",
   "metadata": {},
   "source": [
    "In the Data directory, you will find four images. I'll step you through getting an image histogram of the first one, and you will practice with the other three. The first step is to read in the image."
   ]
  },
  {
   "cell_type": "code",
   "execution_count": null,
   "metadata": {},
   "outputs": [],
   "source": [
    "# First load the image\n",
    "image1 = img.imread(\"./Data/overexposed.jpg\")"
   ]
  },
  {
   "cell_type": "markdown",
   "metadata": {},
   "source": [
    "Use the %whos command to see the image in your workspace."
   ]
  },
  {
   "cell_type": "code",
   "execution_count": null,
   "metadata": {},
   "outputs": [],
   "source": []
  },
  {
   "cell_type": "markdown",
   "metadata": {},
   "source": [
    "As you can see, there are 804 rows, 1024 columns, and 3 color channels in this image. The color channels are redundant since this image is in grayscale. Let's average over them to remove this variable. We'll print the shape of the new variable to show the difference."
   ]
  },
  {
   "cell_type": "code",
   "execution_count": null,
   "metadata": {},
   "outputs": [],
   "source": [
    "image1 = np.mean(image1, axis=2) # 2 because python starts counting at 0.\n",
    "print(image1.shape)"
   ]
  },
  {
   "cell_type": "markdown",
   "metadata": {},
   "source": [
    "Now, let's look at the image. Run the cell below - it will show three different colormaps for the image."
   ]
  },
  {
   "cell_type": "code",
   "execution_count": null,
   "metadata": {},
   "outputs": [],
   "source": [
    "plt.subplot(131) #1 = 1 row, 3 = 3 columns, 1 = first plot\n",
    "plt.imshow(image1) # default colormap\n",
    "plt.colorbar() # maps colors to pixel values\n",
    "plt.subplot(132)\n",
    "plt.imshow(image1, cmap=\"gray\")\n",
    "plt.colorbar() # maps colors to pixel values\n",
    "plt.subplot(133)\n",
    "plt.imshow(image1, cmap=\"hot\")\n",
    "plt.colorbar() # maps colors to pixel values"
   ]
  },
  {
   "cell_type": "markdown",
   "metadata": {},
   "source": [
    "Now, let's create the histogram yourself!"
   ]
  },
  {
   "cell_type": "code",
   "execution_count": null,
   "metadata": {},
   "outputs": [],
   "source": [
    "plt.hist(image1.ravel(), bins=256, range=(0.0, 1.0)) #ravel flattens image, 1.0=255 here\n",
    "plt.ylabel('Count of Pixels')\n",
    "plt.xlabel('Pixel Value (0=0, 1=255)')"
   ]
  },
  {
   "cell_type": "markdown",
   "metadata": {},
   "source": [
    "Follow this process to create histograms for the other three images in the Data folder!"
   ]
  },
  {
   "cell_type": "code",
   "execution_count": null,
   "metadata": {},
   "outputs": [],
   "source": []
  }
 ],
 "metadata": {
  "kernelspec": {
   "display_name": "Python 3",
   "language": "python",
   "name": "python3"
  },
  "language_info": {
   "codemirror_mode": {
    "name": "ipython",
    "version": 3
   },
   "file_extension": ".py",
   "mimetype": "text/x-python",
   "name": "python",
   "nbconvert_exporter": "python",
   "pygments_lexer": "ipython3",
   "version": "3.8.5"
  }
 },
 "nbformat": 4,
 "nbformat_minor": 4
}
