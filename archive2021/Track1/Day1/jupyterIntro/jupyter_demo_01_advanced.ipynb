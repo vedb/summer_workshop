{
 "cells": [
  {
   "cell_type": "markdown",
   "metadata": {},
   "source": [
    "# Tips and tricks for use in jupyter\n",
    "This notebook is a demo of basic jupyter functionality for the VEDB Big Data Summer School. \n",
    "\n",
    "We will cover: \n",
    "1. python cell execution\n",
    "    * order of operations\n",
    "    * autocompletion\n",
    "    * workspaces\n",
    "    * restarting the kernel\n",
    "2. Magic (%) commands \n",
    "3. Command mode\n",
    "    * Adding \n",
    "4. Getting help\n",
    "    * hotkeys (notebook help)\n",
    "    * docstrings (python function help)"
   ]
  },
  {
   "cell_type": "code",
   "execution_count": null,
   "metadata": {},
   "outputs": [],
   "source": [
    "%run setup.py"
   ]
  }
 ],
 "metadata": {
  "kernelspec": {
   "display_name": "Python 3",
   "language": "python",
   "name": "python3"
  },
  "language_info": {
   "codemirror_mode": {
    "name": "ipython",
    "version": 3
   },
   "file_extension": ".py",
   "mimetype": "text/x-python",
   "name": "python",
   "nbconvert_exporter": "python",
   "pygments_lexer": "ipython3",
   "version": "3.8.3"
  }
 },
 "nbformat": 4,
 "nbformat_minor": 4
}
