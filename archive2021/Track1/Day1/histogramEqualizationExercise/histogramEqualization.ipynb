{
 "cells": [
  {
   "cell_type": "markdown",
   "id": "a587ef55",
   "metadata": {},
   "source": [
    "## Histogram Equalization\n",
    "\n",
    "Now that you have done this by hand, let's work through a brief notebook on editing histograms with python. Here, you will create 4 versions of the image (original, stretched contrast, contrast equalized, and adaptive contrast equalization).\n",
    "\n",
    "We'll begin by importing the necessary libraries for the task. Skimage is a useful library with many helpful image processing routines."
   ]
  },
  {
   "cell_type": "code",
   "execution_count": null,
   "id": "81ae0a0b",
   "metadata": {},
   "outputs": [],
   "source": [
    "import matplotlib\n",
    "import matplotlib.pyplot as plt\n",
    "import matplotlib.image as img\n",
    "import numpy as np\n",
    "from skimage import img_as_float\n",
    "from skimage import exposure\n",
    "import skimage.io"
   ]
  },
  {
   "cell_type": "markdown",
   "id": "883802b9",
   "metadata": {},
   "source": [
    "Let's start by loading in an image of a chest x-ray. As you will see, it's pretty low contrast."
   ]
  },
  {
   "cell_type": "code",
   "execution_count": null,
   "id": "2dc83c23",
   "metadata": {},
   "outputs": [],
   "source": [
    "image = img.imread(\"chest-xray.jpg\")\n",
    "plt.imshow(image)"
   ]
  },
  {
   "cell_type": "markdown",
   "id": "a34bea59",
   "metadata": {},
   "source": [
    "Let's now show the image side by side with it's histogram. On top of the histogram, we'll plot the histogram's cumulative distribution function (CDF). The script histogramEditing.py does this for you. Use the magic command you previously learned (%load) to view the script."
   ]
  },
  {
   "cell_type": "code",
   "execution_count": null,
   "id": "1e343df8",
   "metadata": {},
   "outputs": [],
   "source": []
  },
  {
   "cell_type": "markdown",
   "id": "d4d390d0",
   "metadata": {},
   "source": [
    "You may find out more about [contrast stretching](https://homepages.inf.ed.ac.uk/rbf/HIPR2/stretch.htm) and [adaptive equalization](https://en.wikipedia.org/wiki/Adaptive_histogram_equalization) at these links.\n",
    "\n",
    "Let's run the code. Use the magic command you previously learned (%run) to run the script."
   ]
  },
  {
   "cell_type": "code",
   "execution_count": null,
   "id": "d1a99682",
   "metadata": {},
   "outputs": [],
   "source": []
  },
  {
   "cell_type": "code",
   "execution_count": null,
   "id": "42775321",
   "metadata": {},
   "outputs": [],
   "source": []
  }
 ],
 "metadata": {
  "kernelspec": {
   "display_name": "Python 3",
   "language": "python",
   "name": "python3"
  },
  "language_info": {
   "codemirror_mode": {
    "name": "ipython",
    "version": 3
   },
   "file_extension": ".py",
   "mimetype": "text/x-python",
   "name": "python",
   "nbconvert_exporter": "python",
   "pygments_lexer": "ipython3",
   "version": "3.8.10"
  }
 },
 "nbformat": 4,
 "nbformat_minor": 5
}
