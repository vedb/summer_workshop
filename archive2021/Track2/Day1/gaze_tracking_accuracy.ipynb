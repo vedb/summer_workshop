{
 "cells": [
  {
   "cell_type": "code",
   "execution_count": null,
   "metadata": {},
   "outputs": [],
   "source": [
    "import numpy as np\n",
    "import glob\n",
    "import matplotlib.pyplot as plt\n",
    "import os\n",
    "import cv2\n",
    "import pandas as pd"
   ]
  },
  {
   "cell_type": "code",
   "execution_count": null,
   "metadata": {},
   "outputs": [],
   "source": [
    "def pickle_to_array(pickle_file):\n",
    "    arrays = dict(np.load(pickle_file, allow_pickle=True))\n",
    "    print(\"Total number of arrays: \", len(arrays))\n",
    "    return arrays\n",
    "\n",
    "def rmse(predictions, targets):\n",
    "    return np.sqrt(((predictions - targets) ** 2).mean())\n",
    "\n",
    "def pixels_to_angle_x(array):\n",
    "    return (array - horizontal_pixels/2) * ratio_x\n",
    "\n",
    "def pixels_to_angle_y(array):\n",
    "    return (array - vertical_pixels/2) * ratio_y\n"
   ]
  },
  {
   "cell_type": "code",
   "execution_count": null,
   "metadata": {},
   "outputs": [],
   "source": [
    "horizontal_pixels = 2048\n",
    "vertical_pixels = 1536\n",
    "horizontal_FOV = 119.4\n",
    "vertical_FOV = 82.0"
   ]
  },
  {
   "cell_type": "code",
   "execution_count": null,
   "metadata": {},
   "outputs": [],
   "source": [
    "session_folder = \"/home/data/vedb_processed/2020_09_28_20_53_15\""
   ]
  },
  {
   "cell_type": "code",
   "execution_count": null,
   "metadata": {},
   "outputs": [],
   "source": [
    "gaze_file = session_folder + \"/PL_binocular_2D-PL_gaze_left_eye.npz\"\n",
    "marker_file = session_folder +\"/PL_binocular_2D-PL_calibration_ref_pos.npz\"\n",
    "left_pupil_file = session_folder + \"/PL_binocular_2D-PL_pupil_pos_left.npz\"\n",
    "right_pupil_file = session_folder + \"/PL_binocular_2D-PL_pupil_pos_right.npz\""
   ]
  },
  {
   "cell_type": "code",
   "execution_count": null,
   "metadata": {},
   "outputs": [],
   "source": [
    "gaze_df = pd.read_csv(session_folder + \"/gaze_2D_PL_left_eye.csv\")\n",
    "\n",
    "right_pupil_arrays = pickle_to_array(right_pupil_file)\n",
    "\n",
    "left_pupil_arrays = pickle_to_array(left_pupil_file)\n",
    "\n",
    "marker_arrays = pickle_to_array(marker_file)"
   ]
  },
  {
   "cell_type": "code",
   "execution_count": null,
   "metadata": {},
   "outputs": [],
   "source": [
    "gaze_df.head()"
   ]
  },
  {
   "cell_type": "code",
   "execution_count": null,
   "metadata": {},
   "outputs": [],
   "source": [
    "ratio_x = horizontal_FOV/horizontal_pixels\n",
    "ratio_y = vertical_FOV/vertical_pixels\n",
    "\n",
    "gaze_norm_x = gaze_df.iloc[:].norm_pos_x.values\n",
    "gaze_norm_y = gaze_df.iloc[:].norm_pos_y.values\n",
    "\n",
    "gaze_pixel_x = gaze_norm_x * horizontal_pixels\n",
    "gaze_pixel_y = gaze_norm_y * vertical_pixels\n",
    "\n",
    "print('gazeX shape = ', gaze_pixel_x.shape)\n",
    "print('gazeY shape = ',gaze_pixel_y.shape)\n",
    "\n",
    "gaze_az = pixels_to_angle_x(gaze_pixel_x)\n",
    "gaze_el = pixels_to_angle_y(gaze_pixel_y)\n",
    "\n",
    "marker_az = pixels_to_angle_x(marker_arrays[\"norm_pos\"][:,0]*horizontal_pixels)\n",
    "marker_el = pixels_to_angle_y(marker_arrays[\"norm_pos\"][:,1]*vertical_pixels)\n",
    "\n",
    "print('markerX shape = ', marker_az.shape)\n",
    "print('markerY shape = ',marker_el.shape)\n"
   ]
  },
  {
   "cell_type": "code",
   "execution_count": null,
   "metadata": {},
   "outputs": [],
   "source": [
    "plt.figure(figsize=(12,10))\n",
    "plt.plot(gaze_az, gaze_el, 'gx', alpha = 0.3)\n",
    "plt.title(\"2D Binocular Gaze\", fontsize=18)\n",
    "plt.xlabel(\"degree (azimuth)\", fontsize = 14)\n",
    "plt.ylabel(\"degree (elevation)\", fontsize = 14)\n",
    "plt.xticks(fontsize=12)\n",
    "plt.yticks(fontsize=12)\n",
    "plt.xlim(-65,65)\n",
    "plt.ylim(-55,55)\n",
    "plt.grid(True)\n",
    "plt.show()\n",
    "#plt.savefig(os.getcwd()+\"/average_fft_pupil.png\", dpi=150)"
   ]
  },
  {
   "cell_type": "code",
   "execution_count": null,
   "metadata": {},
   "outputs": [],
   "source": [
    "marker_arrays.keys()"
   ]
  },
  {
   "cell_type": "code",
   "execution_count": null,
   "metadata": {},
   "outputs": [],
   "source": [
    "print(marker_arrays[\"norm_pos\"].shape)\n",
    "print(marker_arrays[\"timestamp\"].shape)\n"
   ]
  },
  {
   "cell_type": "code",
   "execution_count": null,
   "metadata": {},
   "outputs": [],
   "source": [
    "def time_stamp_to_index(ts, time_stamp_array):\n",
    "    index = np.argmin(np.abs((time_stamp_array - ts).astype(float)))\n",
    "    return index\n"
   ]
  },
  {
   "cell_type": "code",
   "execution_count": null,
   "metadata": {},
   "outputs": [],
   "source": [
    "gaze_timestamp = gaze_df[\"timestamp\"].values[:]"
   ]
  },
  {
   "cell_type": "code",
   "execution_count": null,
   "metadata": {},
   "outputs": [],
   "source": [
    "\n",
    "gaze_index = []\n",
    "for timestamp in marker_arrays[\"timestamp\"]:\n",
    "    gaze_index.append(time_stamp_to_index(timestamp,gaze_timestamp))"
   ]
  },
  {
   "cell_type": "code",
   "execution_count": null,
   "metadata": {},
   "outputs": [],
   "source": [
    "plt.figure(figsize=(12,10))\n",
    "# plt.plot(marker_arrays[\"norm_pos\"][:,0], marker_arrays[\"norm_pos\"][:,1], 'ro', alpha = 0.6, label=\"marker\")\n",
    "plt.plot(marker_az, marker_el, 'ro', alpha = 0.6, label=\"marker\")\n",
    "plt.plot(gaze_az[gaze_index], gaze_el[gaze_index], 'xg', alpha = 0.6, label=\"gaze_2D\")\n",
    "plt.title(\"2D monocular Gaze Vs. Marker Position\", fontsize=18)\n",
    "plt.xlabel(\"normalized x\", fontsize = 16)\n",
    "plt.ylabel(\"normalized y\", fontsize = 16)\n",
    "plt.xticks(fontsize=18)\n",
    "plt.yticks(fontsize=18)\n",
    "plt.grid(True)\n",
    "plt.xlim(-65,65)\n",
    "plt.ylim(-55,55)\n",
    "plt.legend(fontsize=14)\n",
    "# plt.savefig(\"_gaze_marker.png\", dpi=150, transparent=False)\n",
    "plt.show()\n"
   ]
  },
  {
   "cell_type": "code",
   "execution_count": null,
   "metadata": {},
   "outputs": [],
   "source": [
    "plt.close()"
   ]
  },
  {
   "cell_type": "code",
   "execution_count": null,
   "metadata": {},
   "outputs": [],
   "source": [
    "plt.figure(figsize=(12,10))\n",
    "diff_az = marker_az - gaze_az[gaze_index]\n",
    "diff_el = marker_el - gaze_el[gaze_index]\n",
    "\n",
    "\n",
    "#plt.boxplot(diff_r_az, notch=True, showfliers=False)\n",
    "boxprops = dict(linestyle='-', linewidth=3)\n",
    "whiskerprops = dict(linestyle='-', linewidth=3)\n",
    "capprops = dict(linestyle='-', linewidth=3)\n",
    "plt.boxplot([diff_az, diff_el,], boxprops=boxprops, whiskerprops=whiskerprops, capprops=capprops\n",
    "            ,notch=True, showfliers=False)\n",
    "plt.title(\"Gaze Tracking Error\", fontsize = 16)\n",
    "plt.ylabel(\"degree\", fontsize = 16)\n",
    "plt.xticks([1,2],[\"azimuth\", \"elevation\"], fontsize = 18)\n",
    "plt.yticks(fontsize=18)\n",
    "plt.grid(True)\n",
    "plt.ylim(-3,3)\n",
    "plt.tight_layout()\n",
    "plt.savefig(\"_2d_gaze_error.png\", dpi=150, transparent=False)\n",
    "plt.show()"
   ]
  },
  {
   "cell_type": "code",
   "execution_count": null,
   "metadata": {},
   "outputs": [],
   "source": []
  },
  {
   "cell_type": "code",
   "execution_count": null,
   "metadata": {},
   "outputs": [],
   "source": []
  }
 ],
 "metadata": {
  "kernelspec": {
   "display_name": "summer_workshop",
   "language": "python",
   "name": "summer_workshop"
  },
  "language_info": {
   "codemirror_mode": {
    "name": "ipython",
    "version": 3
   },
   "file_extension": ".py",
   "mimetype": "text/x-python",
   "name": "python",
   "nbconvert_exporter": "python",
   "pygments_lexer": "ipython3",
   "version": "3.7.10"
  }
 },
 "nbformat": 4,
 "nbformat_minor": 2
}
