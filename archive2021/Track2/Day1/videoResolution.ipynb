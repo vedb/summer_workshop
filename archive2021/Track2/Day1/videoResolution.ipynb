{
 "cells": [
  {
   "cell_type": "markdown",
   "id": "01002415",
   "metadata": {},
   "source": [
    "## Video Resolution\n",
    "The purpose of this brief exercise is to get you comfortable with Jupyter notebooks and to allow you to understand how video data grow larger with increased spatial and temporal resolution.\n",
    "\n",
    "We'll begin with importing some of the python libraries that we need for this exercise. Hit shift-enter in the cell below to run it."
   ]
  },
  {
   "cell_type": "code",
   "execution_count": null,
   "id": "ffa14f0a",
   "metadata": {},
   "outputs": [],
   "source": [
    "import numpy as np"
   ]
  },
  {
   "cell_type": "markdown",
   "id": "9cf8e43e",
   "metadata": {},
   "source": [
    "For this exercise, we'll address video recording with smart phones because this is something that most of us have some experience with. We'll start with the first iPhone that was capable of video recording, the 3GS from 2009.\n",
    "\n",
    "This phone could record with a spatial resolution of 480x320 pixels at 30 frames per second (FPS). Imagine that you recorded 10 minutes of video with this camera in grayscale. How many total pixels would have been recorded? Use the cell below for your calculations."
   ]
  },
  {
   "cell_type": "code",
   "execution_count": null,
   "id": "45ce3d3a",
   "metadata": {},
   "outputs": [],
   "source": []
  },
  {
   "cell_type": "markdown",
   "id": "880526c4",
   "metadata": {},
   "source": [
    "Recording color videos means that each of the pixels is expressed with three numbers: the amount of Red, the amount of Green, and the amount of Blue. [Here](https://www.youtube.com/watch?v=mdnc6T8983c) is a short video on this concept if this is new to you. How many total numbers were stored? Use the cell below for your calculations."
   ]
  },
  {
   "cell_type": "code",
   "execution_count": null,
   "id": "3177f422",
   "metadata": {},
   "outputs": [],
   "source": []
  },
  {
   "cell_type": "markdown",
   "id": "c766f097",
   "metadata": {},
   "source": [
    "By contrast, the iPhone 12 can record at a spatial resolution of 3840x2160 pixels and a temporal resolution of 120 FPS!\n",
    "\n",
    "Repeat your same calculations for this new iPhone in the cell below."
   ]
  },
  {
   "cell_type": "code",
   "execution_count": null,
   "id": "2a7a2eef",
   "metadata": {},
   "outputs": [],
   "source": []
  },
  {
   "cell_type": "markdown",
   "id": "56c99ffc",
   "metadata": {},
   "source": [
    "As was demonstrated in the video, increasing either spatial or temporal resolution increases the size of your data. Use the cell below (and others as necessary) to argue whether one of these matters more for ultimate file size. Use comments (starting lines with #) to write prose."
   ]
  },
  {
   "cell_type": "code",
   "execution_count": null,
   "id": "ad624fff",
   "metadata": {},
   "outputs": [],
   "source": []
  },
  {
   "cell_type": "markdown",
   "id": "8bc7b98e",
   "metadata": {},
   "source": [
    "Let's create some fake video data. Use [np.random.randint()](https://numpy.org/doc/stable/reference/random/generated/numpy.random.randint.html) to create 1s of simulated video data that is the same size as video from an iPhone 12. (In other words, you will be creating an array of random numbers). Use the %whos command to get the size of this array. Note: this might take a minute!"
   ]
  },
  {
   "cell_type": "code",
   "execution_count": null,
   "id": "33a9a91c",
   "metadata": {},
   "outputs": [],
   "source": []
  },
  {
   "cell_type": "markdown",
   "id": "c3a2cef4",
   "metadata": {},
   "source": [
    "Your answer will be something like ~23000 MB or 23 GB! So, how can this be? How is it that our phones can store more than 10 seconds worth of video? It turns out that videos are stored in compressed form. This means that they take advantage of the fact that each frame is pretty similar to the frame before it. They also take advantage of the fact that each pixel is pretty similar to its spatial neighbors."
   ]
  },
  {
   "cell_type": "code",
   "execution_count": null,
   "id": "224d3a72",
   "metadata": {},
   "outputs": [],
   "source": []
  }
 ],
 "metadata": {
  "kernelspec": {
   "display_name": "Python 3",
   "language": "python",
   "name": "python3"
  },
  "language_info": {
   "codemirror_mode": {
    "name": "ipython",
    "version": 3
   },
   "file_extension": ".py",
   "mimetype": "text/x-python",
   "name": "python",
   "nbconvert_exporter": "python",
   "pygments_lexer": "ipython3",
   "version": "3.8.10"
  }
 },
 "nbformat": 4,
 "nbformat_minor": 5
}
