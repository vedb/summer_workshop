{
 "cells": [
  {
   "cell_type": "markdown",
   "id": "c861f80c",
   "metadata": {},
   "source": [
    "## Simple PCA Example\n",
    "\n",
    "Let's work through the simplest possible example of PCA so that you understand it conceptually.\n",
    "\n",
    "At its core, PCA finds correlations in your data and uses these correlations to express your data in a more simple way.\n",
    "\n",
    "We'll begin by creating a set of correlated bivariate data. Run the cell below to plot."
   ]
  },
  {
   "cell_type": "code",
   "execution_count": 1,
   "id": "9c5a7f08",
   "metadata": {},
   "outputs": [
    {
     "data": {
      "text/plain": [
       "<matplotlib.collections.PathCollection at 0x7f82e1bc7ee0>"
      ]
     },
     "execution_count": 1,
     "metadata": {},
     "output_type": "execute_result"
    },
    {
     "data": {
      "image/png": "[encoded data removed]",
      "text/plain": [
       "<Figure size 432x288 with 1 Axes>"
      ]
     },
     "metadata": {
      "needs_background": "light"
     },
     "output_type": "display_data"
    }
   ],
   "source": [
    "import numpy as np\n",
    "import matplotlib.pyplot as plt\n",
    "\n",
    "# Create correlated data\n",
    "x = np.random.randn(100)+3\n",
    "y = 0.55 * x + .3 * np.random.randn(100)\n",
    "\n",
    "# Create a scatterplot of this data\n",
    "plt.figure()\n",
    "plt.scatter(x, y)"
   ]
  },
  {
   "cell_type": "markdown",
   "id": "093737bb",
   "metadata": {},
   "source": [
    "Right now, x and y are separate vectors. The next cell creates a matrix called X whose first column is the vector x and whose second column is the vector y."
   ]
  },
  {
   "cell_type": "code",
   "execution_count": 2,
   "id": "2fd41b08",
   "metadata": {},
   "outputs": [
    {
     "name": "stdout",
     "output_type": "stream",
     "text": [
      "(100, 2)\n"
     ]
    }
   ],
   "source": [
    "X = np.zeros((len(x), 2))\n",
    "X[:,0] = x\n",
    "X[:,1] = y\n",
    "print(X.shape)"
   ]
  },
  {
   "cell_type": "markdown",
   "id": "3151218e",
   "metadata": {},
   "source": [
    "The next step in computing PCA is to center the data. This means computing the mean of each column, and subtracting these means from the data. This is important because it places each feature into a similar range, and this keeps one feature from looking more important.\n",
    "\n",
    "The next cell creates a centered version of X by computing the column means of X and subtracting them from X."
   ]
  },
  {
   "cell_type": "code",
   "execution_count": 3,
   "id": "b3c3f5c6",
   "metadata": {},
   "outputs": [],
   "source": [
    "colMeans = np.mean(X, axis=0)\n",
    "X = X - colMeans"
   ]
  },
  {
   "cell_type": "markdown",
   "id": "b19bf03d",
   "metadata": {},
   "source": [
    "Use the cell below to create a new scatterplot of both columns of X. How does this differ from the previous scatterplot?"
   ]
  },
  {
   "cell_type": "code",
   "execution_count": null,
   "id": "5a77208c",
   "metadata": {},
   "outputs": [],
   "source": []
  },
  {
   "cell_type": "markdown",
   "id": "e619a545",
   "metadata": {},
   "source": [
    "The next step is to compute the covariance matrix of our data. X is a 100x2 matrix, so the covariance matrix will be 2x2. The diagonal elements (those at [0,0] and [1,1]) of the matrix will show the variance of each column, and the off-diagonal elements (those at [0,1] and [1,0]) show the correlation between the two variables.\n",
    "\n",
    "Use [np.cov()](https://numpy.org/doc/stable/reference/generated/numpy.cov.html) to compute the covariance matrix of X.T. Assign this to a variable called c and print it. What is the correlation between the two columns?"
   ]
  },
  {
   "cell_type": "code",
   "execution_count": null,
   "id": "8df271c1",
   "metadata": {},
   "outputs": [],
   "source": []
  },
  {
   "cell_type": "markdown",
   "id": "dda44027",
   "metadata": {},
   "source": [
    "You can also see that the variance of the first column is larger than the variance of the second column. This makes sense because the first column ranges from -3 to +2 while the second column only ranges from -1.5 to 1.5.\n",
    "\n",
    "PCA is going to try to find the direction of maximum variance within the data and make this its new X-axis. The direction that explains the next most variance will be the new Y-axis. In linear algebra, this is known as changing the basis of the data. We will do this by computing the eigenvectors and eigenvalues of the covariance matrix. If these terms are not yet familiar to you, don't worry. The eigenvectors represent the new directions of our new x and y axes, and the eigenvalues tell us how much magnitude each axis should have.\n",
    "\n",
    "Run the cell below to compute the eigen-stuff.\n"
   ]
  },
  {
   "cell_type": "code",
   "execution_count": 4,
   "id": "3bbce9c3",
   "metadata": {},
   "outputs": [
    {
     "ename": "NameError",
     "evalue": "name 'c' is not defined",
     "output_type": "error",
     "traceback": [
      "\u001b[0;31m---------------------------------------------------------------------------\u001b[0m",
      "\u001b[0;31mNameError\u001b[0m                                 Traceback (most recent call last)",
      "\u001b[0;32m<ipython-input-4-48c118bda454>\u001b[0m in \u001b[0;36m<module>\u001b[0;34m\u001b[0m\n\u001b[1;32m      1\u001b[0m \u001b[0;32mfrom\u001b[0m \u001b[0mnumpy\u001b[0m\u001b[0;34m.\u001b[0m\u001b[0mlinalg\u001b[0m \u001b[0;32mimport\u001b[0m \u001b[0meig\u001b[0m\u001b[0;34m\u001b[0m\u001b[0;34m\u001b[0m\u001b[0m\n\u001b[1;32m      2\u001b[0m \u001b[0;34m\u001b[0m\u001b[0m\n\u001b[0;32m----> 3\u001b[0;31m \u001b[0mvalues\u001b[0m\u001b[0;34m,\u001b[0m \u001b[0mvectors\u001b[0m \u001b[0;34m=\u001b[0m \u001b[0meig\u001b[0m\u001b[0;34m(\u001b[0m\u001b[0mc\u001b[0m\u001b[0;34m)\u001b[0m\u001b[0;34m\u001b[0m\u001b[0;34m\u001b[0m\u001b[0m\n\u001b[0m\u001b[1;32m      4\u001b[0m \u001b[0mprint\u001b[0m\u001b[0;34m(\u001b[0m\u001b[0mvalues\u001b[0m\u001b[0;34m)\u001b[0m\u001b[0;34m\u001b[0m\u001b[0;34m\u001b[0m\u001b[0m\n\u001b[1;32m      5\u001b[0m \u001b[0mprint\u001b[0m\u001b[0;34m(\u001b[0m\u001b[0mvectors\u001b[0m\u001b[0;34m)\u001b[0m\u001b[0;34m\u001b[0m\u001b[0;34m\u001b[0m\u001b[0m\n",
      "\u001b[0;31mNameError\u001b[0m: name 'c' is not defined"
     ]
    }
   ],
   "source": [
    "from numpy.linalg import eig\n",
    "\n",
    "values, vectors = eig(c)\n",
    "print(values)\n",
    "print(vectors)"
   ]
  },
  {
   "cell_type": "markdown",
   "id": "4fbbfab5",
   "metadata": {},
   "source": [
    "If it were necessary, we would sort the eigenvalues in descending order, and re-order the eigenvectors accordingly. The eigenvectors are our principal components!\n",
    "\n",
    "Let's plot them alongside our data. Run the following cell:"
   ]
  },
  {
   "cell_type": "code",
   "execution_count": null,
   "id": "e3868d99",
   "metadata": {},
   "outputs": [],
   "source": [
    "# create a scatterplot of X\n",
    "plt.figure()\n",
    "plt.scatter(X[:,0], X[:,1])\n",
    "\n",
    "# plot the first principal component as a red line\n",
    "plt.plot([0, vectors[0,0]], [0, vectors[1,0]], color='r')\n",
    "\n",
    "# plot the second principal component as a black line\n",
    "plt.plot([0, vectors[0,1]], [0, vectors[1,1]], color='k')"
   ]
  },
  {
   "cell_type": "markdown",
   "id": "b5bfb640",
   "metadata": {},
   "source": [
    "Wonderful! Now let's project our data into the onto the new axes. This means that the new axes will be the principal components, rather than the original X and Y axes.\n",
    "\n",
    "Run the cell below to show the original and projected data."
   ]
  },
  {
   "cell_type": "code",
   "execution_count": null,
   "id": "3afb4a69",
   "metadata": {},
   "outputs": [],
   "source": [
    "projected = (np.dot(vectors.T, X.T)).T\n",
    "\n",
    "plt.figure()\n",
    "plt.subplot(1,2,1)\n",
    "plt.scatter(X[:,0], X[:,1])\n",
    "plt.plot([0, vectors[0,0]], [0, vectors[1,0]], color='r')\n",
    "plt.plot([0, vectors[0,1]], [0, vectors[1,1]], color='k')\n",
    "plt.title('Original')\n",
    "\n",
    "plt.subplot(1,2,2)\n",
    "plt.scatter(projected[:,0], projected[:,1])\n",
    "plt.xlim(-3,3)\n",
    "plt.ylim(-3,3)\n",
    "plt.title('Projected')"
   ]
  },
  {
   "cell_type": "markdown",
   "id": "b6bc3a48",
   "metadata": {},
   "source": [
    "Let's now say that you only want to retain the first principal component. Create a new variable with just this component, create a new projection of your data, and plot it as before."
   ]
  },
  {
   "cell_type": "code",
   "execution_count": null,
   "id": "241c4864",
   "metadata": {},
   "outputs": [],
   "source": []
  }
 ],
 "metadata": {
  "kernelspec": {
   "display_name": "summer_workshop",
   "language": "python",
   "name": "summer_workshop"
  },
  "language_info": {
   "codemirror_mode": {
    "name": "ipython",
    "version": 3
   },
   "file_extension": ".py",
   "mimetype": "text/x-python",
   "name": "python",
   "nbconvert_exporter": "python",
   "pygments_lexer": "ipython3",
   "version": "3.8.8"
  }
 },
 "nbformat": 4,
 "nbformat_minor": 5
}
