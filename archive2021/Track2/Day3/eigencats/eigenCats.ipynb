{
 "cells": [
  {
   "cell_type": "markdown",
   "id": "e27f9052",
   "metadata": {},
   "source": [
    "## PCA in a more complex setting\n",
    "\n",
    "The goal of Principal Components Analysis is to exploit \"suspicious coincidences\" in one's data. Here, I will take you through PCA on cat faces to show how a complex item (a cat's face) may be recognized by a very small number of components.\n"
   ]
  },
  {
   "cell_type": "code",
   "execution_count": 1,
   "id": "9c8bb062",
   "metadata": {},
   "outputs": [],
   "source": [
    "import numpy as np\n",
    "import matplotlib.pyplot as plt\n",
    "from sklearn.decomposition import PCA"
   ]
  },
  {
   "cell_type": "markdown",
   "id": "979cd1a3",
   "metadata": {},
   "source": [
    "Run the cell below to load in the cat face data. This is a set of ~9000 64x64 pixel cat faces. "
   ]
  },
  {
   "cell_type": "code",
   "execution_count": null,
   "id": "effbb33b",
   "metadata": {},
   "outputs": [],
   "source": [
    "allIms = np.load('/home/data/eigencatData/cats.npy')\n",
    "print(allIms.shape)"
   ]
  },
  {
   "cell_type": "markdown",
   "id": "10e3acc7",
   "metadata": {},
   "source": [
    "Consider: Each image is 64 by 64 pixels in size, and each pixel can take on one of 256 shades of gray. How many dimensions are in these data?\n",
    "\n",
    "Let's first get warmed up by showing an animation of the first 100 cat faces. It gives you a sense of the variability, and they are super cute!"
   ]
  },
  {
   "cell_type": "code",
   "execution_count": null,
   "id": "9d5e6cac",
   "metadata": {},
   "outputs": [],
   "source": [
    "# show the first 100 faces\n",
    "%matplotlib notebook\n",
    "\n",
    "# start plot\n",
    "fig = plt.figure()\n",
    "ax = fig.add_subplot(111)\n",
    "plt.ion()\n",
    "fig.show()\n",
    "fig.canvas.draw()\n",
    "\n",
    "# show first 100 cat faces: fill in the range and the index of thisFace\n",
    "for i in range(100):\n",
    "    ax.clear()\n",
    "    thisFace = allIms[i, :, :]\n",
    "    plt.imshow(thisFace, cmap=\"gray\")\n",
    "    fig.canvas.draw()\n",
    "    plt.pause(.25)"
   ]
  },
  {
   "cell_type": "markdown",
   "id": "dbf89030",
   "metadata": {},
   "source": [
    "As you saw with the simplePCA notebook, the first step in processing is to subtract the average from the data. What does the average cat face look like? Run the cell below to create a running average of the first 250 faces."
   ]
  },
  {
   "cell_type": "code",
   "execution_count": null,
   "id": "fca84e4c",
   "metadata": {},
   "outputs": [],
   "source": [
    "# pre-allocate memory for the mean face\n",
    "thisMean = np.zeros((64, 64))\n",
    "\n",
    "# start plot\n",
    "fig = plt.figure()\n",
    "ax1 = fig.add_subplot(121)\n",
    "ax2 = fig.add_subplot(122)\n",
    "plt.ion()\n",
    "fig.show()\n",
    "fig.canvas.draw()\n",
    "pauseTime = 1\n",
    "\n",
    "for i in range(250):\n",
    "    pauseTime = pauseTime/2\n",
    "    thisFace = allIms[i, :, :]\n",
    "    thisMean += thisFace * (1/allIms.shape[0])\n",
    "    ax1.clear()\n",
    "    ax2.clear()\n",
    "    ax1.imshow(thisFace, cmap=\"gray\")\n",
    "    ax1.set_title(\"Image Number: {}\".format(i)) \n",
    "    ax2.imshow(thisMean, cmap=\"gray\")\n",
    "    fig.canvas.draw()\n",
    "    plt.pause(pauseTime)"
   ]
  },
  {
   "cell_type": "markdown",
   "id": "563a5eb0",
   "metadata": {},
   "source": [
    "Let's now compute the average of all 9000 faces (hint: np.mean() is your friend -- remember to use an axis argument!). "
   ]
  },
  {
   "cell_type": "code",
   "execution_count": null,
   "id": "0e51670a",
   "metadata": {},
   "outputs": [],
   "source": [
    "# compute the average cat face\n",
    "meanCat = # your code here\n",
    "\n",
    "plt.figure()\n",
    "plt.imshow(meanCat, cmap=\"gray\")"
   ]
  },
  {
   "cell_type": "markdown",
   "id": "dbbaf9ed",
   "metadata": {},
   "source": [
    "This is a very interesting result in and of itself - even though no effort was taken to align the cat faces, the faces are all so self-similar that the average itself looks like a cat face! This suggests a considerable amount of redundancy that can be exploited by PCA.\n",
    "\n",
    "In order to compute PCA on these images, we need to reshape our matrix into a 8942-image by 4096-pixel array."
   ]
  },
  {
   "cell_type": "code",
   "execution_count": null,
   "id": "187c6316",
   "metadata": {},
   "outputs": [],
   "source": [
    "allIms = np.reshape(allIms, [8942, 4096])\n",
    "print(allIms.shape)"
   ]
  },
  {
   "cell_type": "markdown",
   "id": "9b248bb2",
   "metadata": {},
   "source": [
    "We will be using the PCA implementation from the sklearn library. Put your data matrix into the parentheses in line 1. This line will compute the principal components. The plot will show the cumulative variance explained for each of the components. "
   ]
  },
  {
   "cell_type": "code",
   "execution_count": null,
   "id": "f8ce78da",
   "metadata": {},
   "outputs": [],
   "source": [
    "pca = PCA().fit(#data matrix)\n",
    "\n",
    "plt.figure()\n",
    "plt.plot(np.cumsum(pca.explained_variance_ratio_))\n",
    "plt.xlabel('number of components')\n",
    "plt.ylabel('cumulative explained variance');"
   ]
  },
  {
   "cell_type": "markdown",
   "id": "399b3fd7",
   "metadata": {},
   "source": [
    "Really interesting, right? Even though we have over 4000 dimensions to our data, we can explain nearly all of the variation with less than 25% of those dimensions!\n",
    "\n",
    "But what do these components themselves look like? Fill in the code below to compute PCA with the first 200 components. The plot will reveal the first 30 principal components or \"eigencats\". You can think about these as building blocks - every individual cat can be reconstructed as some linear combination of these eigencats.\n"
   ]
  },
  {
   "cell_type": "code",
   "execution_count": null,
   "id": "3d1c4407",
   "metadata": {},
   "outputs": [],
   "source": [
    "# Fit the PCA model with 200 components\n",
    "pca = PCA(n_components = XXX) # fill in 200 as the number of components\n",
    "pca.fit(#fill me in)\n",
    "\n",
    "# plot the eigencats - no need to change anything else\n",
    "fig, axes = plt.subplots(3, 10, figsize=(9, 4),\n",
    "                         subplot_kw={'xticks':[], 'yticks':[]},\n",
    "                         gridspec_kw=dict(hspace=0.1, wspace=0.1))\n",
    "for i, ax in enumerate(axes.flat):\n",
    "    ax.imshow(pca.components_[i].reshape(64, 64), cmap='gray')"
   ]
  },
  {
   "cell_type": "markdown",
   "id": "b16e6882",
   "metadata": {},
   "source": [
    "How well can we reconstruct the cat faces with just 200 components? Run the cell below to find out - the first row shows the first 10 cat faces, and underneath we have the 200-component reconstruction."
   ]
  },
  {
   "cell_type": "code",
   "execution_count": null,
   "id": "ac389dc7",
   "metadata": {},
   "outputs": [],
   "source": [
    "pca = PCA(n_components = 200)\n",
    "pca.fit(#datamat)\n",
    "components = pca.transform(#datamat)\n",
    "projected = pca.inverse_transform(components)\n",
    "\n",
    "# Plot the results\n",
    "fig, ax = plt.subplots(2, 10, figsize=(10, 2.5),\n",
    "                       subplot_kw={'xticks':[], 'yticks':[]},\n",
    "                       gridspec_kw=dict(hspace=0.1, wspace=0.1))\n",
    "for i in range(10):\n",
    "    ax[0, i].imshow(XXX[i].reshape(64, 64), cmap='gray') # fill in XXX with data matrix\n",
    "    ax[1, i].imshow(projected[i].reshape(64, 64), cmap='gray')\n",
    "    \n",
    "ax[0, 0].set_ylabel('full-dim\\ninput')\n",
    "ax[1, 0].set_ylabel('200-dim\\nreconstruction');"
   ]
  },
  {
   "cell_type": "markdown",
   "id": "3cfb3c4e",
   "metadata": {},
   "source": [
    "How few components can you get away with? Try the reconstruction again with different numbers of components. Do you and your team mates agree on the minimum number of required components?"
   ]
  },
  {
   "cell_type": "code",
   "execution_count": null,
   "id": "85f9e588",
   "metadata": {},
   "outputs": [],
   "source": []
  }
 ],
 "metadata": {
  "kernelspec": {
   "display_name": "summer_workshop",
   "language": "python",
   "name": "summer_workshop"
  },
  "language_info": {
   "codemirror_mode": {
    "name": "ipython",
    "version": 3
   },
   "file_extension": ".py",
   "mimetype": "text/x-python",
   "name": "python",
   "nbconvert_exporter": "python",
   "pygments_lexer": "ipython3",
   "version": "3.8.8"
  }
 },
 "nbformat": 4,
 "nbformat_minor": 5
}
