{
 "cells": [
  {
   "cell_type": "markdown",
   "id": "0723f20e",
   "metadata": {},
   "source": [
    "## Color Histogram Exercise\n",
    "Now that you are comfortable making histograms with grayscale images, let's explore histograms in R, B, and B color channels!\n",
    "\n",
    "As before, start by importing the necessary libraries."
   ]
  },
  {
   "cell_type": "code",
   "execution_count": null,
   "id": "94bb3a01",
   "metadata": {},
   "outputs": [],
   "source": [
    "import matplotlib.pyplot as plt\n",
    "import matplotlib.image as img\n",
    "import numpy as np"
   ]
  },
  {
   "cell_type": "markdown",
   "id": "1b75e389",
   "metadata": {},
   "source": [
    "As before, there are a few images in the Data folder. Use ls to explore their contents."
   ]
  },
  {
   "cell_type": "code",
   "execution_count": null,
   "id": "1c518c3d",
   "metadata": {},
   "outputs": [],
   "source": []
  },
  {
   "cell_type": "markdown",
   "id": "b98a363b",
   "metadata": {},
   "source": [
    "Use the method presented in the previous exercise to read in the volcano image and print its dimensions."
   ]
  },
  {
   "cell_type": "code",
   "execution_count": null,
   "id": "28c66918",
   "metadata": {
    "scrolled": true
   },
   "outputs": [],
   "source": []
  },
  {
   "cell_type": "markdown",
   "id": "c488e38a",
   "metadata": {},
   "source": [
    "Create variables for the forest and iceberg images in the same way. (You can choose to print their dimensions if you choose, but this is optional)"
   ]
  },
  {
   "cell_type": "code",
   "execution_count": null,
   "id": "c6e61be5",
   "metadata": {},
   "outputs": [],
   "source": [
    "# your code here"
   ]
  },
  {
   "cell_type": "markdown",
   "id": "25827cc6",
   "metadata": {},
   "source": [
    "You can use plt.imshow() to view each of the images:"
   ]
  },
  {
   "cell_type": "code",
   "execution_count": null,
   "id": "c346f9ae",
   "metadata": {},
   "outputs": [],
   "source": [
    "plt.subplot(131)\n",
    "plt.imshow(volcano)\n",
    "plt.subplot(132)\n",
    "plt.imshow(forest)\n",
    "plt.subplot(133)\n",
    "plt.imshow(iceberg)"
   ]
  },
  {
   "cell_type": "markdown",
   "id": "df36b698",
   "metadata": {},
   "source": [
    "The main difference between this exercise and the previous exercise is that each of these three images will have three color channels, one for each of the color channels (red, green, and blue). Therefore, we will have a total of nine histograms.\n",
    "\n",
    "One way we could do this is to type in the same commands nine times, but this is tedious. Instead, we will do two things: (1) plot each of the color channels in the same plot according to their color; and (2) I will show you how to use a loop to automate the process."
   ]
  },
  {
   "cell_type": "code",
   "execution_count": null,
   "id": "5f0d3a61",
   "metadata": {},
   "outputs": [],
   "source": [
    "# First, let's define the names of the color channels and their indices\n",
    "colors = (\"r\",\"g\",\"b\")\n",
    "channelIdx = (0, 1, 2)\n",
    "\n",
    "# define a common x axis\n",
    "plt.xlim([0,256])\n",
    "\n",
    "# create three histogram line plots, one for each color\n",
    "for channelIdx, c in zip(channelIdx, colors):\n",
    "    histogram, bin_edges = np.histogram(\n",
    "        volcano[:, :, channelIdx], bins=256, range=(0,256)\n",
    "        )\n",
    "    plt.plot(bin_edges[0:-1], histogram, color=c)\n",
    "    \n",
    "plt.title(\"Volcano Histogram\")\n",
    "plt.xlabel(\"Pixel Value\")\n",
    "plt.ylabel(\"Pixel Count\")"
   ]
  },
  {
   "cell_type": "markdown",
   "id": "4ddce66c",
   "metadata": {},
   "source": [
    "Now, do the same thing for the forest and iceberg images. Discuss the differences you see in your group."
   ]
  },
  {
   "cell_type": "code",
   "execution_count": null,
   "id": "221f47f3",
   "metadata": {},
   "outputs": [],
   "source": []
  },
  {
   "cell_type": "code",
   "execution_count": null,
   "id": "a982660d",
   "metadata": {},
   "outputs": [],
   "source": []
  },
  {
   "cell_type": "code",
   "execution_count": null,
   "id": "42ee4912",
   "metadata": {},
   "outputs": [],
   "source": []
  }
 ],
 "metadata": {
  "kernelspec": {
   "display_name": "Python 3",
   "language": "python",
   "name": "python3"
  },
  "language_info": {
   "codemirror_mode": {
    "name": "ipython",
    "version": 3
   },
   "file_extension": ".py",
   "mimetype": "text/x-python",
   "name": "python",
   "nbconvert_exporter": "python",
   "pygments_lexer": "ipython3",
   "version": "3.8.10"
  }
 },
 "nbformat": 4,
 "nbformat_minor": 5
}
