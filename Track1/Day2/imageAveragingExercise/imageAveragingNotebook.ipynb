{
 "cells": [
  {
   "cell_type": "markdown",
   "id": "6f910e69",
   "metadata": {},
   "source": [
    "## Image Averaging and 3D Histograms Notebook\n",
    "\n",
    "In this notebook, you will see how color can sometimes (and sometimes not) be a good feature for scene categorization. In the first part of this exercise, you will deal with three categories (deserts, forests, and oceans) with 50 images each.\n",
    "\n",
    "Let's first begin by importing the libraries that we will need for this exercise."
   ]
  },
  {
   "cell_type": "code",
   "execution_count": null,
   "id": "88163434",
   "metadata": {},
   "outputs": [],
   "source": [
    "import numpy as np\n",
    "import cv2\n",
    "import glob\n",
    "import matplotlib.pyplot as plt\n",
    "import warnings\n",
    "\n",
    "# suppress silly warnings\n",
    "warnings.filterwarnings(\"ignore\")"
   ]
  },
  {
   "cell_type": "markdown",
   "id": "167a0080",
   "metadata": {},
   "source": [
    "Let's now create a list of images in each of these categories."
   ]
  },
  {
   "cell_type": "code",
   "execution_count": null,
   "id": "980d202c",
   "metadata": {},
   "outputs": [],
   "source": [
    "desertList = glob.glob('./Data/Images/desert' + '/' + '*.jpg')\n",
    "# path, / , *.jpg = \"everything that ends with .jpg\"\n",
    "forestList = glob.glob('./Data/Images/forest' + '/' + '*.jpg')\n",
    "oceanList = glob.glob('./Data/Images/ocean' + '/' + '*.jpg')"
   ]
  },
  {
   "cell_type": "markdown",
   "id": "1d554dd3",
   "metadata": {},
   "source": [
    "In the first animation, we will create a running average of each image as it is read in. We will first create three containers for these averages, one for each category."
   ]
  },
  {
   "cell_type": "code",
   "execution_count": null,
   "id": "767eb5a8",
   "metadata": {},
   "outputs": [],
   "source": [
    "N = len(desertList) # this will be the same for all three categories == 50 images\n",
    "# open the first image to peek at its width and height\n",
    "testIm = cv2.imread(desertList[0])\n",
    "print(testIm.shape)"
   ]
  },
  {
   "cell_type": "markdown",
   "id": "3ddd325f",
   "metadata": {},
   "source": [
    "Looks like the shape is height, then width, then colors. Use the following command to assign height and width to variables."
   ]
  },
  {
   "cell_type": "code",
   "execution_count": null,
   "id": "eda7cf7e",
   "metadata": {},
   "outputs": [],
   "source": [
    "h, w = testIm.shape[:-1] # means all dimensions except for the last one"
   ]
  },
  {
   "cell_type": "markdown",
   "id": "87c1095c",
   "metadata": {},
   "source": [
    "Now we are ready to initialize an image that will have shape height x width x 3. We'll initialize it with zeros just as a placeholder."
   ]
  },
  {
   "cell_type": "code",
   "execution_count": null,
   "id": "2c3376df",
   "metadata": {},
   "outputs": [],
   "source": [
    "averageDesert = np.zeros((h, w, 3), np.float)\n",
    "averageForest = np.zeros((h, w, 3), np.float)\n",
    "averageOcean = np.zeros((h, w, 3), np.float)"
   ]
  },
  {
   "cell_type": "markdown",
   "id": "dc7085d5",
   "metadata": {},
   "source": [
    "We are now going to employ a loop to read in each image in turn, add it to the average, and then show the last image as well as the average image."
   ]
  },
  {
   "cell_type": "code",
   "execution_count": null,
   "id": "99f3ab45",
   "metadata": {},
   "outputs": [],
   "source": [
    "for i in range(len(desertList)):\n",
    "    # read in the ith images\n",
    "    desert = cv2.imread(desertList[i])\n",
    "    forest = cv2.imread(forestList[i])\n",
    "    ocean = cv2.imread(oceanList[i])\n",
    "    \n",
    "    # Convert from BGR to RGB\n",
    "    desert = cv2.cvtColor(desert, cv2.COLOR_BGR2RGB)\n",
    "    forest = cv2.cvtColor(forest, cv2.COLOR_BGR2RGB)\n",
    "    ocean = cv2.cvtColor(ocean, cv2.COLOR_BGR2RGB)\n",
    "    \n",
    "    # update the average images\n",
    "    averageDesert = (averageDesert*i + desert) / (i+1)\n",
    "    averageForest = (averageForest*i + desert) / (i+1)\n",
    "    averageOcean = (averageOcean*i + desert) / (i+1)\n",
    "    \n",
    "    # Plot it!\n",
    "    plt.subplot(231)\n",
    "    plt.imshow(desert)\n",
    "    plt.axis('off')\n",
    "    plt.subplot(232)\n",
    "    plt.imshow(forest)\n",
    "    plt.axis('off')\n",
    "    plt.subplot(233)\n",
    "    plt.imshow(ocean)\n",
    "    plt.axis('off')\n",
    "    plt.subplot(234)\n",
    "    plt.imshow(desertAverage)\n",
    "    plt.axis('off')\n",
    "    plt.subplot(235)\n",
    "    plt.imshow(forestAverage)\n",
    "    plt.axis('off')\n",
    "    plt.subplot(236)\n",
    "    plt.imshow(oceanAverage)\n",
    "    plt.axis('off')\n",
    "    plt.draw()\n",
    "    plt.pause(.1)"
   ]
  },
  {
   "cell_type": "markdown",
   "id": "a3feee64",
   "metadata": {},
   "source": [
    "Now, let's create a 3D histogram of the average red, green, and blue pixels for each of the categories."
   ]
  },
  {
   "cell_type": "code",
   "execution_count": null,
   "id": "f1352fbe",
   "metadata": {},
   "outputs": [],
   "source": [
    "plt.ioff()\n",
    "plt.figure()\n",
    "ax = plt.axes(projection='3d')\n",
    "\n",
    "red = averageDesert[:,:,0].ravel()\n",
    "green = averageDesert[:,:,1].ravel()\n",
    "blue = averageDesert[:,:,2].ravel()\n",
    "desertFig = ax.scatter(red, green, blue, c=\"#D95F02\", label=\"Desert\")\n",
    "\n",
    "red = averageForest[:,:,0].ravel()\n",
    "green = averageForest[:,:,1].ravel()\n",
    "blue = averageForest[:,:,2].ravel()\n",
    "forestFig = ax.scatter(red, green, blue, c=\"green\", label=\"Forest\")\n",
    "\n",
    "red = averageOcean[:,:,0].ravel()\n",
    "green = averageOcean[:,:,1].ravel()\n",
    "blue = averageOcean[:,:,2].ravel()\n",
    "oceanFig = ax.scatter(red, green, blue, c=\"blue\", label=\"Ocean\")\n",
    "\n",
    "ax.set_xlabel(\"Red Channel\")\n",
    "ax.set_ylabel(\"Green Channel\")\n",
    "ax.set_zlabel(\"Blue Channel\")\n",
    "plt.legend(handles=[desertFig, forestFig, oceanFig])\n",
    "plt.show()"
   ]
  },
  {
   "cell_type": "markdown",
   "id": "7768ccb1",
   "metadata": {},
   "source": [
    "This shows that deserts, forests, and oceans can be easily separated by their colors. Does this work equally well for all types of images? In ./Data/Images2 you will find three more folders, this time of indoor images. Repeat the steps above to check whether "
   ]
  }
 ],
 "metadata": {
  "kernelspec": {
   "display_name": "summer_workshop",
   "language": "python",
   "name": "summer_workshop"
  },
  "language_info": {
   "codemirror_mode": {
    "name": "ipython",
    "version": 3
   },
   "file_extension": ".py",
   "mimetype": "text/x-python",
   "name": "python",
   "nbconvert_exporter": "python",
   "pygments_lexer": "ipython3",
   "version": "3.8.8"
  }
 },
 "nbformat": 4,
 "nbformat_minor": 5
}
